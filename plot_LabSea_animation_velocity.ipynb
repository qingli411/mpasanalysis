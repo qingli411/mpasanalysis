{
 "cells": [
  {
   "cell_type": "code",
   "execution_count": 1,
   "metadata": {
    "lines_to_next_cell": 1
   },
   "outputs": [],
   "source": [
    "from mpasanalysis import *\n",
    "import e3sm_res_cmp"
   ]
  },
  {
   "cell_type": "code",
   "execution_count": 2,
   "metadata": {
    "lines_to_next_cell": 1
   },
   "outputs": [],
   "source": [
    "def main():\n",
    "    global fig_dir\n",
    "    global lon, lat, refMidDepth, cellArea, refLayerThickness, bottomDepth\n",
    "    global s1_s_lon, s1_s_lat, s1_e_lon, s1_e_lat\n",
    "    global s2_s_lon, s2_s_lat, s2_e_lon, s2_e_lat\n",
    "\n",
    "    # get paths of restart files, monthly mean output files, processed climatology files and output figures\n",
    "    ts_ys = 1\n",
    "    ts_ye = 25\n",
    "    plt_ys = 41\n",
    "    plt_ye = 41\n",
    "    nmon = 1 # 12 for production and 1 for testing\n",
    "    data_root = e3sm_res_cmp.load_paths_ocn(climo_ys=ts_ys, climo_ye=ts_ye, ts_ys=ts_ys, ts_ye=ts_ye)\n",
    "    rst_root = data_root['rst_root']\n",
    "    mon_root = data_root['mon_root']\n",
    "    fig_root = data_root['fig_root']\n",
    "    rst_file = rst_root+'/mpaso.rst.{:04d}-01-01_00000.nc'.format(ts_ye+1)\n",
    "    data_root_ice = e3sm_res_cmp.load_paths_ice(climo_ys=ts_ys, climo_ye=ts_ye, ts_ys=ts_ys, ts_ye=ts_ye)\n",
    "    mon_root_ice = data_root_ice['mon_root']\n",
    "\n",
    "    # load dataset\n",
    "    f_rst = Dataset(rst_file, 'r')\n",
    "\n",
    "    # read grid information\n",
    "    lon = np.degrees(f_rst.variables['lonCell'][:])\n",
    "    lat = np.degrees(f_rst.variables['latCell'][:])\n",
    "    cellArea = f_rst.variables['areaCell'][:]\n",
    "    bottomDepth = f_rst.variables['bottomDepth'][:]\n",
    "\n",
    "    refBottomDepth = f_rst.variables['refBottomDepth'][:]\n",
    "    nVertLevels = len(refBottomDepth)\n",
    "    refTopDepth = np.zeros(nVertLevels)\n",
    "    refTopDepth[1:nVertLevels] = refBottomDepth[0:nVertLevels-1]\n",
    "    refLayerThickness = refTopDepth-refBottomDepth\n",
    "    refMidDepth = 0.5*(refTopDepth+refBottomDepth)\n",
    "\n",
    "    # transect\n",
    "    trnsct = transect('AR7W')\n",
    "\n",
    "    # velocity\n",
    "    varname_x = 'timeMonthly_avg_velocityZonal'\n",
    "    varname_y = 'timeMonthly_avg_velocityMeridional'\n",
    "    varname = 'timeMonthly_avg_velocity'\n",
    "    units = 'm/s'\n",
    "    levels = np.linspace(-0.3, 0.3, 21)\n",
    "\n",
    "    fig_dir = fig_root+'/Animation/'+varname\n",
    "    os.makedirs(fig_dir, exist_ok=True)\n",
    "    # for y in np.arange(plt_ye-plt_ys+1):\n",
    "    #     for m in np.arange(nmon):\n",
    "    for y in [41]:\n",
    "        for m in [1]:\n",
    "            print('{:04d}-{:02d}'.format(y, m))\n",
    "            mon_file = mon_root+'/mpaso.hist.am.timeSeriesStatsMonthly.{:04d}-{:02d}-01.nc'.format(y, m)\n",
    "            print(mon_file)\n",
    "            f_mon = Dataset(mon_file, 'r')\n",
    "            plot_LabSea_velocity(f_mon, varname_x, varname_y, varname, units, levels, y, m, trnsct)\n",
    "            f_mon.close()"
   ]
  },
  {
   "cell_type": "code",
   "execution_count": 5,
   "metadata": {
    "lines_to_next_cell": 1
   },
   "outputs": [],
   "source": [
    "def plot_LabSea_velocity(f_in, vname_x, vname_y, vname, units, levels, iyear, imon, trnsct):\n",
    "    \"\"\"Plot map.\n",
    "\n",
    "    :f_in: (netcdf4 Dataset) ocean input file\n",
    "    :vname_x: (str) variable name x-component\n",
    "    :vname_y: (str) variable name y-component\n",
    "    :vname: (str) variable name for display\n",
    "    :units: (str) variable units for display\n",
    "    :levels: (list) levels for contours\n",
    "    :iyear: (int) year index\n",
    "    :imon: (int) month index\n",
    "    :trnsct: (VerticalTransect object) transect\n",
    "    :returns: none\n",
    "\n",
    "    \"\"\"\n",
    "    global fig_dir\n",
    "    global lon, lat, refMidDepth, cellArea, refLayerThickness, bottomDepth\n",
    "\n",
    "    # read monthly mean ocean data\n",
    "    data_x = f_in.variables[vname_x][0,:,:]\n",
    "    data_y = f_in.variables[vname_y][0,:,:]\n",
    "    mpasovol_obj_x = MPASOVolume(data=data_x, lat=lat, lon=lon, depth=refMidDepth, cellarea=cellArea,\n",
    "                                 layerthickness=refLayerThickness, bottomdepth=bottomDepth,\n",
    "                                 name=vname_x, units=units)\n",
    "    mpasovol_obj_y = MPASOVolume(data=data_y, lat=lat, lon=lon, depth=refMidDepth, cellarea=cellArea,\n",
    "                                 layerthickness=refLayerThickness, bottomdepth=bottomDepth,\n",
    "                                 name=vname_y, units=units)\n",
    "    mpaso_obj_x = mpasovol_obj_x.get_map(depth=0.0)\n",
    "    mpaso_obj_y = mpasovol_obj_y.get_map(depth=0.0)\n",
    "    data = np.sqrt(mpaso_obj_x.data**2+mpaso_obj_y.data**2)\n",
    "    mpaso_obj = MPASOMap(data=data, lon=mpaso_obj_x.lon, lat=mpaso_obj_x.lat, cellarea=mpaso_obj_x.cellarea,\n",
    "                         name=vname, units=units) \n",
    "    # year and month\n",
    "    yyyy = '{:04d}'.format(iyear)\n",
    "    mm = '{:02d}'.format(imon)\n",
    "\n",
    "    # plot figure 1: map\n",
    "    fig = plt.figure(figsize=[6, 5.5])\n",
    "    levels1 = np.linspace(0, levels[-1], 31)\n",
    "    m,tmp = mpaso_obj.plot(region='LabSea', levels=levels1, ptype='contourf')\n",
    "    m.drawgreatcircle(trnsct.lon0, trnsct.lat0, trnsct.lon1, trnsct.lat1, color='gray')\n",
    "    axis = plt.gca()\n",
    "    axis.text(0.06, 0.62, yyyy+'-'+mm, transform=axis.transAxes,\n",
    "                 fontsize=12, color='k', va='top',\n",
    "                 bbox=dict(boxstyle='square',ec='k',fc='w'))\n",
    "    figname = fig_dir+'/LabSea_climo_Map_'+yyyy+'-'+mm+'.png'\n",
    "    fig.savefig(figname, dpi = 300)\n",
    "    plt.close(fig)\n",
    "\n",
    "    # plot figure 2: vertical transect\n",
    "    fig = plt.figure(figsize=[6, 4])\n",
    "    plot_transect_normal(mpasovol_obj_x, mpasovol_obj_y, trnsct, name='Normal velocity', levels=levels,\n",
    "                         depth_mode='native', cmap='RdBu_r' )\n",
    "    axis = plt.gca()\n",
    "    axis.text(0.06, 0.12, yyyy+'-'+mm, transform=axis.transAxes,\n",
    "                 fontsize=12, color='k', va='top',\n",
    "                 bbox=dict(boxstyle='square',ec='k',fc='w'))\n",
    "    figname = fig_dir+'/LabSea_climo_VCSec1_'+yyyy+'-'+mm+'.png'\n",
    "    fig.savefig(figname, dpi = 300)\n",
    "    plt.close(fig)"
   ]
  },
  {
   "cell_type": "code",
   "execution_count": 6,
   "metadata": {},
   "outputs": [
    {
     "name": "stdout",
     "output_type": "stream",
     "text": [
      "Running on machine pn1803144.lanl.gov\n",
      "Running on machine pn1803144.lanl.gov\n",
      "0041-01\n",
      "/Users/qingli/data/mpas/test/mpaso.hist.am.timeSeriesStatsMonthly.0041-01-01.nc\n",
      "Plotting map of timeMonthly_avg_velocity (m/s) at region 'LabSea'\n",
      "Nearest neighbor interpolation to 25 points.\n",
      "Nearest neighbor interpolation to 25 points.\n"
     ]
    }
   ],
   "source": [
    "if __name__ == \"__main__\":\n",
    "    main()"
   ]
  },
  {
   "cell_type": "code",
   "execution_count": null,
   "metadata": {},
   "outputs": [],
   "source": []
  },
  {
   "cell_type": "code",
   "execution_count": null,
   "metadata": {},
   "outputs": [],
   "source": []
  }
 ],
 "metadata": {
  "jupytext": {
   "cell_metadata_filter": "-all",
   "main_language": "python",
   "notebook_metadata_filter": "-all"
  },
  "kernelspec": {
   "display_name": "Python 3",
   "language": "python",
   "name": "python3"
  },
  "language_info": {
   "codemirror_mode": {
    "name": "ipython",
    "version": 3
   },
   "file_extension": ".py",
   "mimetype": "text/x-python",
   "name": "python",
   "nbconvert_exporter": "python",
   "pygments_lexer": "ipython3",
   "version": "3.7.1"
  }
 },
 "nbformat": 4,
 "nbformat_minor": 2
}
