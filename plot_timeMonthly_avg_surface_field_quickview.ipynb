{
 "cells": [
  {
   "cell_type": "code",
   "execution_count": null,
   "metadata": {},
   "outputs": [],
   "source": [
    "from mpasanalysis import *\n",
    "%matplotlib inline"
   ]
  },
  {
   "cell_type": "code",
   "execution_count": null,
   "metadata": {},
   "outputs": [],
   "source": [
    "# flags\n",
    "save_fig = False"
   ]
  },
  {
   "cell_type": "code",
   "execution_count": null,
   "metadata": {},
   "outputs": [],
   "source": [
    "# get hostname\n",
    "hostname = os.getenv('HOSTNAME')\n",
    "print('Running on machine {}'.format(hostname))"
   ]
  },
  {
   "cell_type": "code",
   "execution_count": null,
   "metadata": {},
   "outputs": [],
   "source": [
    "# set paths\n",
    "if 'theta' in hostname:\n",
    "    data_root = '/projects/ClimateEnergy_3/azamatm/E3SM_simulations/theta.20180906.branch_noCNT.A_WCYCL1950S_CMIP6_HR.ne120_oRRS18v3_ICG'\n",
    "    fig_root = '/home/qingli/work/e3sm_res_cmp/figures/high_res'\n",
    "    rst_file = data_root+'/run/mpaso.rst.0051-01-01_00000.nc'\n",
    "    mon_file = data_root+'/run/mpaso.hist.am.timeSeriesStatsMonthly.0051-01-01.nc'\n",
    "elif 'edison' in hostname:\n",
    "    data_root = '/global/cscratch1/sd/tang30/ACME_simulations/edison.20181204.noCNT.A_WCYCL1950S_CMIP6_LRtunedHR.ne30_oECv3_ICG'\n",
    "    fig_root = '/global/homes/q/qingli/work/e3sm_res_cmp/figures/low_res'\n",
    "    rst_file = data_root+'/run/mpaso.rst.0051-01-01_00000.nc'\n",
    "    mon_file = data_root+'/archive/ocn/hist/mpaso.hist.am.timeSeriesStatsMonthly.0041-01-01.nc'\n",
    "else:\n",
    "    raise EnvironmentError('This script should be executed on either edison or theta')\n",
    "os.makedirs(fig_root, exist_ok=True)"
   ]
  },
  {
   "cell_type": "code",
   "execution_count": null,
   "metadata": {},
   "outputs": [],
   "source": [
    "# load dataset\n",
    "f_rst = Dataset(rst_file, 'r')\n",
    "f_mon = Dataset(mon_file, 'r')"
   ]
  },
  {
   "cell_type": "code",
   "execution_count": null,
   "metadata": {},
   "outputs": [],
   "source": [
    "# read grid information\n",
    "lon = np.degrees(f_rst.variables['lonCell'][:])\n",
    "lat = np.degrees(f_rst.variables['latCell'][:])\n",
    "cellArea = f_rst.variables['areaCell'][:]"
   ]
  },
  {
   "cell_type": "code",
   "execution_count": null,
   "metadata": {},
   "outputs": [],
   "source": [
    "# get variable list\n",
    "var_keys = f_mon.variables.keys()\n",
    "var_list = []\n",
    "exclude_keywords = ['avgValue', 'minGlobalStats', 'maxGlobalStats', 'sumGlobalStats',\n",
    "                    'rmsGlobalStats', 'avgGlobalStats', 'vertSum', 'area',\n",
    "                    'vertNonLocalFlux',\n",
    "                    'nonLocalSurfaceTracerFlux',\n",
    "                    'activeTracerHorizontalAdvectionTendency',\n",
    "                    'activeTracerVertMixTendency',\n",
    "                    'activeTracerSurfaceFluxTendency',\n",
    "                    'activeTracersSurfaceFluxRemoved',\n",
    "                    'activeTracersSurfaceFluxRunoff',\n",
    "                    'activeTracersSurfaceFlux',\n",
    "                    'activeTracerVerticalAdvectionTendency',\n",
    "                    'activeTracerNonLocalTendency',\n",
    "                    'activeTracersTend',\n",
    "                   ]\n",
    "for var in var_keys:\n",
    "    f_inc = True\n",
    "    if 'timeMonthly_avg_' not in var:\n",
    "        f_inc = False\n",
    "        continue\n",
    "    for exc in exclude_keywords:\n",
    "        if exc in var:\n",
    "            f_inc = False\n",
    "            continue\n",
    "    if f_inc:\n",
    "        var_list.append(var[16:])\n",
    "print(var_list)"
   ]
  },
  {
   "cell_type": "code",
   "execution_count": null,
   "metadata": {},
   "outputs": [],
   "source": [
    "# plot figures\n",
    "nCells = f_mon.dimensions['nCells'].size\n",
    "for var_name in var_list:\n",
    "    # load data\n",
    "    ncvar = f_mon.variables['timeMonthly_avg_'+var_name]\n",
    "    # check data\n",
    "    ndim = len(ncvar.shape)\n",
    "    if ndim == 2:\n",
    "        dat = ncvar[0,:]\n",
    "    elif ndim == 3:\n",
    "        dat = ncvar[0,:,0]\n",
    "    else:\n",
    "        print('Skip \\'{}\\''.format(var_name))\n",
    "        continue\n",
    "    if dat.size != nCells:\n",
    "        print('Skip \\'{}\\''.format(var_name))\n",
    "        continue\n",
    "    # create MPASOMap object\n",
    "    units = ncvar.units\n",
    "    mpaso_obj = MPASOMap(data=dat, lat=lat, lon=lon, cellarea=cellArea, name=var_name, units=units)\n",
    "    # plot\n",
    "    fig = plt.figure()\n",
    "    fig.set_size_inches(6, 6)\n",
    "    mpaso_obj.plot(region='LabSea')\n",
    "    plt.show()\n",
    "    plt.close(fig)\n"
   ]
  },
  {
   "cell_type": "code",
   "execution_count": null,
   "metadata": {},
   "outputs": [],
   "source": []
  }
 ],
 "metadata": {
  "kernelspec": {
   "display_name": "Python 3",
   "language": "python",
   "name": "python3"
  },
  "language_info": {
   "codemirror_mode": {
    "name": "ipython",
    "version": 3
   },
   "file_extension": ".py",
   "mimetype": "text/x-python",
   "name": "python",
   "nbconvert_exporter": "python",
   "pygments_lexer": "ipython3",
   "version": "3.7.2"
  }
 },
 "nbformat": 4,
 "nbformat_minor": 2
}
