{
 "cells": [
  {
   "cell_type": "code",
   "execution_count": null,
   "metadata": {},
   "outputs": [],
   "source": [
    "from mpasanalysis import *\n",
    "import e3sm_res_cmp\n",
    "%matplotlib inline"
   ]
  },
  {
   "cell_type": "code",
   "execution_count": null,
   "metadata": {},
   "outputs": [],
   "source": [
    "# get paths of restart files, monthly mean output files, processed climatology files and output figures\n",
    "rst_root, mon_root, climo_root, fig_root = e3sm_res_cmp.load_paths_ocn()\n",
    "rst_file = rst_root+'/mpaso.rst.0051-01-01_00000.nc'\n",
    "mon_file = mon_root+'/mpaso.hist.am.timeSeriesStatsMonthly.0041-01-01.nc'"
   ]
  },
  {
   "cell_type": "code",
   "execution_count": null,
   "metadata": {},
   "outputs": [],
   "source": [
    "# flags\n",
    "save_fig = False"
   ]
  },
  {
   "cell_type": "code",
   "execution_count": null,
   "metadata": {},
   "outputs": [],
   "source": [
    "# load dataset\n",
    "f_rst = Dataset(rst_file, 'r')\n",
    "f_mon = Dataset(mon_file, 'r')"
   ]
  },
  {
   "cell_type": "code",
   "execution_count": null,
   "metadata": {},
   "outputs": [],
   "source": [
    "# read grid information\n",
    "lon = np.degrees(f_rst.variables['lonCell'][:])\n",
    "lat = np.degrees(f_rst.variables['latCell'][:])\n",
    "cellArea = f_rst.variables['areaCell'][:]\n"
   ]
  },
  {
   "cell_type": "markdown",
   "metadata": {},
   "source": [
    "### SST (degC) and SSS (psu)"
   ]
  },
  {
   "cell_type": "code",
   "execution_count": null,
   "metadata": {},
   "outputs": [],
   "source": [
    "# read data\n",
    "sst = f_mon.variables['timeMonthly_avg_activeTracers_temperature'][0,:,0]\n",
    "sss = f_mon.variables['timeMonthly_avg_activeTracers_salinity'][0,:,0]\n",
    "mpaso_sst = MPASOMap(data=sst, lat=lat, lon=lon, cellarea=cellArea, name='SST', units='degC')\n",
    "mpaso_sss = MPASOMap(data=sss, lat=lat, lon=lon, cellarea=cellArea, name='SSS', units='psu')\n"
   ]
  },
  {
   "cell_type": "code",
   "execution_count": null,
   "metadata": {},
   "outputs": [],
   "source": [
    "# plot figure\n",
    "fig, axarr = plt.subplots(2)\n",
    "fig.set_size_inches(6, 12)\n",
    "mpaso_sst.plot(region='LabSea', axis=axarr[0])\n",
    "mpaso_sss.plot(region='LabSea', axis=axarr[1])\n",
    "\n",
    "if save_fig:\n",
    "    figname = fig_root+'/LabSea_sst_sss.png'\n",
    "    plt.savefig(figname, dpi = 300)"
   ]
  },
  {
   "cell_type": "markdown",
   "metadata": {},
   "source": [
    "### Sea Surface Potential Density (kg m^{-3})"
   ]
  },
  {
   "cell_type": "code",
   "execution_count": null,
   "metadata": {},
   "outputs": [],
   "source": [
    "# read data\n",
    "pd = f_mon.variables['timeMonthly_avg_potentialDensity'][0,:,0]\n",
    "mpaso_pd = MPASOMap(data=pd, lat=lat, lon=lon, cellarea=cellArea, name='Potential Density', units='kg m^{-3}')\n"
   ]
  },
  {
   "cell_type": "code",
   "execution_count": null,
   "metadata": {},
   "outputs": [],
   "source": [
    "# plot figure\n",
    "fig = plt.figure()\n",
    "fig.set_size_inches(6, 6)\n",
    "mpaso_pd.plot(region='LabSea')\n",
    "\n",
    "if save_fig:\n",
    "    figname = fig_root+'/LabSea_pd.png'\n",
    "    plt.savefig(figname, dpi = 300)"
   ]
  },
  {
   "cell_type": "markdown",
   "metadata": {},
   "source": [
    "### Sea Surface Current (m s^{-1})"
   ]
  },
  {
   "cell_type": "code",
   "execution_count": null,
   "metadata": {},
   "outputs": [],
   "source": [
    "# read data\n",
    "velx = f_mon.variables['timeMonthly_avg_velocityZonal'][0,:,0]\n",
    "vely = f_mon.variables['timeMonthly_avg_velocityMeridional'][0,:,0]\n",
    "mpaso_velx = MPASOMap(data=velx, lat=lat, lon=lon, cellarea=cellArea, name='Zonal Surface Current', units='m s^{-1}')\n",
    "mpaso_vely = MPASOMap(data=vely, lat=lat, lon=lon, cellarea=cellArea, name='Meridional Surface Current', units='m s^{-1}')\n"
   ]
  },
  {
   "cell_type": "code",
   "execution_count": null,
   "metadata": {},
   "outputs": [],
   "source": [
    "# plot figure\n",
    "fig, axarr = plt.subplots(2)\n",
    "fig.set_size_inches(6, 12)\n",
    "levels = np.linspace(-0.4, 0.4, 21)\n",
    "mpaso_velx.plot(region='LabSea', axis=axarr[0], levels=levels, cmap='RdBu_r')\n",
    "mpaso_vely.plot(region='LabSea', axis=axarr[1], levels=levels, cmap='RdBu_r')\n",
    "\n",
    "if save_fig:\n",
    "    figname = fig_root+'/LabSea_surface_current.png'\n",
    "    plt.savefig(figname, dpi = 300)"
   ]
  },
  {
   "cell_type": "markdown",
   "metadata": {},
   "source": [
    "### Mixed Layer Depth (m)"
   ]
  },
  {
   "cell_type": "code",
   "execution_count": null,
   "metadata": {},
   "outputs": [],
   "source": [
    "# read data\n",
    "mld_d = f_mon.variables['timeMonthly_avg_dThreshMLD'][0,:]\n",
    "mld_t = f_mon.variables['timeMonthly_avg_tThreshMLD'][0,:]\n",
    "mpaso_mld_d = MPASOMap(data=mld_d, lat=lat, lon=lon, cellarea=cellArea, name='MLD_rho', units='m')\n",
    "mpaso_mld_t = MPASOMap(data=mld_t, lat=lat, lon=lon, cellarea=cellArea, name='MLD_temp', units='m')\n",
    "mpaso_mld_diff = MPASOMap(data=mld_t-mld_d, lat=lat, lon=lon, cellarea=cellArea, name='MLD_temp - MLD_rho', units='m')\n"
   ]
  },
  {
   "cell_type": "code",
   "execution_count": null,
   "metadata": {},
   "outputs": [],
   "source": [
    "# plot figure\n",
    "f, axarr = plt.subplots(3)\n",
    "f.set_size_inches(6, 18)\n",
    "\n",
    "levels = np.array([0, 10, 20, 30, 40, 50, 60, 70, 80, 90, 110, 130, 150, 180, 210, 240, 280, 320, 360, 407, 454, 500, 1000, 1500, 2000])\n",
    "levels_diff = np.linspace(-50, 50, 21)\n",
    "im0 = mpaso_mld_t.plot(region='LabSea', axis=axarr[0], levels=levels)\n",
    "im1 = mpaso_mld_d.plot(region='LabSea', axis=axarr[1], levels=levels)\n",
    "im2 = mpaso_mld_diff.plot(region='LabSea', axis=axarr[2], levels=levels_diff, cmap='RdBu_r')\n",
    "\n",
    "if save_fig:\n",
    "    figname = fig_root+'/LabSea_mld.png'\n",
    "    plt.savefig(figname, dpi = 300)"
   ]
  },
  {
   "cell_type": "markdown",
   "metadata": {},
   "source": [
    "### Surface Heat Flux (W m$^{-2}$)"
   ]
  },
  {
   "cell_type": "code",
   "execution_count": null,
   "metadata": {},
   "outputs": [],
   "source": [
    "# read data\n",
    "shf = f_mon.variables['timeMonthly_avg_sensibleHeatFlux'][0,:]\n",
    "lhf = f_mon.variables['timeMonthly_avg_latentHeatFlux'][0,:]\n",
    "swf = f_mon.variables['timeMonthly_avg_shortWaveHeatFlux'][0,:]\n",
    "lwfu = f_mon.variables['timeMonthly_avg_longWaveHeatFluxUp'][0,:]\n",
    "lwfd = f_mon.variables['timeMonthly_avg_longWaveHeatFluxDown'][0,:]\n",
    "lwf = lwfu+lwfd\n",
    "mpaso_swf = MPASOMap(data=swf, lat=lat, lon=lon, cellarea=cellArea, name='SWF', units=r'W m^{-2}')\n",
    "mpaso_lwf = MPASOMap(data=lwf, lat=lat, lon=lon, cellarea=cellArea, name='LWF', units=r'W m^{-2}')\n",
    "mpaso_shf = MPASOMap(data=shf, lat=lat, lon=lon, cellarea=cellArea, name='SHF', units=r'W m^{-2}')\n",
    "mpaso_lhf = MPASOMap(data=lhf, lat=lat, lon=lon, cellarea=cellArea, name='LHF', units=r'W m^{-2}')\n"
   ]
  },
  {
   "cell_type": "code",
   "execution_count": null,
   "metadata": {},
   "outputs": [],
   "source": [
    "# plot figure\n",
    "f, axarr = plt.subplots(2,2)\n",
    "f.set_size_inches(12, 12)\n",
    "levels = np.linspace(-400, 400, 81)\n",
    "im0 = mpaso_swf.plot(region='LabSea', axis=axarr[0,0], levels=levels, cmap='RdBu_r')\n",
    "im1 = mpaso_lwf.plot(region='LabSea', axis=axarr[0,1], levels=levels, cmap='RdBu_r')\n",
    "im2 = mpaso_shf.plot(region='LabSea', axis=axarr[1,0], levels=levels, cmap='RdBu_r')\n",
    "im3 = mpaso_lhf.plot(region='LabSea', axis=axarr[1,1], levels=levels, cmap='RdBu_r')\n",
    "\n",
    "if save_fig:\n",
    "    figname = fig_root+'/LabSea_heatflux.png'\n",
    "    plt.savefig(figname, dpi = 300)"
   ]
  },
  {
   "cell_type": "markdown",
   "metadata": {},
   "source": [
    "### Surface Freshwater  Flux (kg m$^{-2}$ s$^{-1}$)"
   ]
  },
  {
   "cell_type": "code",
   "execution_count": null,
   "metadata": {},
   "outputs": [],
   "source": [
    "# read data\n",
    "evap = f_mon.variables['timeMonthly_avg_evaporationFlux'][0,:]\n",
    "rain = f_mon.variables['timeMonthly_avg_rainFlux'][0,:]\n",
    "snow = f_mon.variables['timeMonthly_avg_snowFlux'][0,:]\n",
    "si_s = f_mon.variables['timeMonthly_avg_seaIceSalinityFlux'][0,:]\n",
    "si_f = f_mon.variables['timeMonthly_avg_seaIceFreshWaterFlux'][0,:]\n",
    "ro_r = f_mon.variables['timeMonthly_avg_riverRunoffFlux'][0,:]\n",
    "ro_i = f_mon.variables['timeMonthly_avg_iceRunoffFlux'][0,:]\n",
    "prec = rain+snow\n",
    "sice = si_s+si_f\n",
    "roff = ro_r+ro_i\n",
    "mpaso_evap = MPASOMap(data=evap, lat=lat, lon=lon, cellarea=cellArea, name='Evaporation', units=r'kg m^{-2} s^{-1}')\n",
    "mpaso_prec = MPASOMap(data=prec, lat=lat, lon=lon, cellarea=cellArea, name='Precipitation', units=r'kg m^{-2} s^{-1}')\n",
    "mpaso_sice = MPASOMap(data=sice, lat=lat, lon=lon, cellarea=cellArea, name='Sea Ice', units=r'kg m^{-2} s^{-1}')\n",
    "mpaso_roff = MPASOMap(data=roff, lat=lat, lon=lon, cellarea=cellArea, name='Runoff', units=r'kg m^{-2} s^{-1}')\n"
   ]
  },
  {
   "cell_type": "code",
   "execution_count": null,
   "metadata": {},
   "outputs": [],
   "source": [
    "# plot figure\n",
    "f, axarr = plt.subplots(2,2)\n",
    "f.set_size_inches(12, 12)\n",
    "levels = np.linspace(-2e-4, 2e-4, 41)\n",
    "im0 = mpaso_evap.plot(region='LabSea', axis=axarr[0,0], levels=levels, cmap='RdBu_r')\n",
    "im1 = mpaso_prec.plot(region='LabSea', axis=axarr[0,1], levels=levels, cmap='RdBu_r')\n",
    "im2 = mpaso_sice.plot(region='LabSea', axis=axarr[1,0], levels=levels, cmap='RdBu_r')\n",
    "im3 = mpaso_roff.plot(region='LabSea', axis=axarr[1,1], levels=levels, cmap='RdBu_r')\n",
    "\n",
    "if save_fig:\n",
    "    figname = fig_root+'/LabSea_freshwaterflux.png'\n",
    "    plt.savefig(figname, dpi = 300)"
   ]
  },
  {
   "cell_type": "markdown",
   "metadata": {},
   "source": [
    "### Wind stress (N m^{-2})"
   ]
  },
  {
   "cell_type": "code",
   "execution_count": null,
   "metadata": {},
   "outputs": [],
   "source": [
    "# read data\n",
    "taux = f_mon.variables['timeMonthly_avg_windStressZonal'][0,:]\n",
    "tauy = f_mon.variables['timeMonthly_avg_windStressMeridional'][0,:]\n",
    "mpaso_taux = MPASOMap(data=taux, lat=lat, lon=lon, cellarea=cellArea, name='Zonal Wind Stress', units='N m^{-2}')\n",
    "mpaso_tauy = MPASOMap(data=tauy, lat=lat, lon=lon, cellarea=cellArea, name='Meridional Wind Stress', units='N m^{-2}')\n"
   ]
  },
  {
   "cell_type": "code",
   "execution_count": null,
   "metadata": {},
   "outputs": [],
   "source": [
    "# plot figure\n",
    "fig, axarr = plt.subplots(2)\n",
    "fig.set_size_inches(6, 12)\n",
    "levels = np.linspace(-0.4, 0.4, 41)\n",
    "mpaso_taux.plot(region='LabSea', axis=axarr[0], levels=levels, cmap='RdBu_r')\n",
    "mpaso_tauy.plot(region='LabSea', axis=axarr[1], levels=levels, cmap='RdBu_r')\n",
    "\n",
    "if save_fig:\n",
    "    figname = fig_root+'/LabSea_wind_stress.png'\n",
    "    plt.savefig(figname, dpi = 300)"
   ]
  },
  {
   "cell_type": "code",
   "execution_count": null,
   "metadata": {},
   "outputs": [],
   "source": []
  }
 ],
 "metadata": {
  "kernelspec": {
   "display_name": "Python 3",
   "language": "python",
   "name": "python3"
  },
  "language_info": {
   "codemirror_mode": {
    "name": "ipython",
    "version": 3
   },
   "file_extension": ".py",
   "mimetype": "text/x-python",
   "name": "python",
   "nbconvert_exporter": "python",
   "pygments_lexer": "ipython3",
   "version": "3.6.5"
  }
 },
 "nbformat": 4,
 "nbformat_minor": 2
}
