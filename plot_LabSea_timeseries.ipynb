{
 "cells": [
  {
   "cell_type": "code",
   "execution_count": null,
   "metadata": {},
   "outputs": [],
   "source": [
    "from mpasanalysis import *\n",
    "import e3sm_res_cmp\n",
    "%matplotlib inline"
   ]
  },
  {
   "cell_type": "code",
   "execution_count": null,
   "metadata": {},
   "outputs": [],
   "source": [
    "# get paths of restart files, monthly mean output files, processed climatology files and output figures\n",
    "ts_ys = 1\n",
    "ts_ye = 25\n",
    "data_root = e3sm_res_cmp.load_paths_ocn(climo_ys=1, climo_ye=10, ts_ys=ts_ys, ts_ye=ts_ye)\n",
    "rst_root = data_root['rst_root']\n",
    "ts_root = data_root['ts_root']\n",
    "fig_root = data_root['fig_root']\n",
    "rst_file = rst_root+'/mpaso.rst.0051-01-01_00000.nc'"
   ]
  },
  {
   "cell_type": "code",
   "execution_count": null,
   "metadata": {},
   "outputs": [],
   "source": [
    "# load dataset\n",
    "f_rst = Dataset(rst_file, 'r')"
   ]
  },
  {
   "cell_type": "code",
   "execution_count": null,
   "metadata": {},
   "outputs": [],
   "source": [
    "# read grid information\n",
    "lon = np.degrees(f_rst.variables['lonCell'][:])\n",
    "lat = np.degrees(f_rst.variables['latCell'][:])\n",
    "cellArea = f_rst.variables['areaCell'][:]\n"
   ]
  },
  {
   "cell_type": "markdown",
   "metadata": {},
   "source": [
    "### heat flux"
   ]
  },
  {
   "cell_type": "code",
   "execution_count": null,
   "metadata": {},
   "outputs": [],
   "source": [
    "grpname = 'heatFlux'\n",
    "region = 'LabSea_SD1'\n",
    "varlist = ['timeMonthly_avg_sensibleHeatFlux',\n",
    "           'timeMonthly_avg_latentHeatFlux',\n",
    "           'timeMonthly_avg_shortWaveHeatFlux',\n",
    "           'timeMonthly_avg_longWaveHeatFluxDown',\n",
    "           'timeMonthly_avg_longWaveHeatFluxUp']\n",
    "nvar = len(varlist)\n",
    "for j, varname in enumerate(varlist):\n",
    "    ts_file = ts_root+'/{:s}/{:s}_{:04d}01_{:04d}12.nc'.format(grpname, varname, ts_ys, ts_ye)\n",
    "    f_ts = Dataset(ts_file, 'r')\n",
    "    ncvar = f_ts.variables[varname]\n",
    "    data = ncvar[:]\n",
    "    if j == 0:\n",
    "        nt = data.shape[0]\n",
    "        mdata = np.zeros([nvar, nt])\n",
    "    for i in np.arange(nt):\n",
    "        mpaso_obj = MPASOMap(data=data[i,:], lat=lat, lon=lon, cellarea=cellArea, name=varname, units=ncvar.units)\n",
    "        mdata[j, i] = mpaso_obj.mean(region=region)\n",
    "    \n",
    "print(mdata.shape)\n"
   ]
  },
  {
   "cell_type": "code",
   "execution_count": null,
   "metadata": {},
   "outputs": [],
   "source": [
    "fig, axarr = plt.subplots(nvar, sharex='col')\n",
    "fig.set_size_inches(8, 8)\n",
    "for i in np.arange(nvar):\n",
    "    axarr[i].plot(mdata[i, :])\n",
    "    \n",
    "# plt.show()\n",
    "# figname = fig_root+'/LabSea_ts_heatFlux.png'\n",
    "# fig.savefig(figname, dpi = 300)\n",
    "# plt.close(fig)"
   ]
  },
  {
   "cell_type": "markdown",
   "metadata": {},
   "source": [
    "### Mixed Layer Depth (m)"
   ]
  },
  {
   "cell_type": "code",
   "execution_count": null,
   "metadata": {},
   "outputs": [],
   "source": [
    "grpname = 'mixedLayerDepth'\n",
    "region = 'LabSea_SD1'\n",
    "varlist = ['timeMonthly_avg_dThreshMLD',\n",
    "           'timeMonthly_avg_tThreshMLD']\n",
    "nvar = len(varlist)\n",
    "for j, varname in enumerate(varlist):\n",
    "    ts_file = ts_root+'/{:s}/{:s}_{:04d}01_{:04d}12.nc'.format(grpname, varname, ts_ys, ts_ye)\n",
    "    f_ts = Dataset(ts_file, 'r')\n",
    "    ncvar = f_ts.variables[varname]\n",
    "    data = ncvar[:]\n",
    "    if j == 0:\n",
    "        nt = data.shape[0]\n",
    "        mdata = np.zeros([nvar, nt])\n",
    "    for i in np.arange(nt):\n",
    "        mpaso_obj = MPASOMap(data=data[i,:], lat=lat, lon=lon, cellarea=cellArea, name=varname, units=ncvar.units)\n",
    "        mdata[j, i] = mpaso_obj.mean(region=region)\n",
    "    \n",
    "print(mdata.shape)\n"
   ]
  },
  {
   "cell_type": "code",
   "execution_count": null,
   "metadata": {},
   "outputs": [],
   "source": [
    "fig, axarr = plt.subplots(nvar, sharex='col')\n",
    "fig.set_size_inches(8, 8)\n",
    "for i in np.arange(nvar):\n",
    "    axarr[i].plot(mdata[i, :])\n",
    "    \n",
    "# plt.show()\n",
    "# figname = fig_root+'/LabSea_ts_MLD.png'\n",
    "# fig.savefig(figname, dpi = 300)\n",
    "# plt.close(fig)"
   ]
  },
  {
   "cell_type": "code",
   "execution_count": null,
   "metadata": {},
   "outputs": [],
   "source": []
  }
 ],
 "metadata": {
  "kernelspec": {
   "display_name": "Python 3",
   "language": "python",
   "name": "python3"
  },
  "language_info": {
   "codemirror_mode": {
    "name": "ipython",
    "version": 3
   },
   "file_extension": ".py",
   "mimetype": "text/x-python",
   "name": "python",
   "nbconvert_exporter": "python",
   "pygments_lexer": "ipython3",
   "version": "3.6.5"
  }
 },
 "nbformat": 4,
 "nbformat_minor": 2
}
