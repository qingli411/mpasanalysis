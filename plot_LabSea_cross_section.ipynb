{
 "cells": [
  {
   "cell_type": "code",
   "execution_count": null,
   "metadata": {},
   "outputs": [],
   "source": [
    "from mpasanalysis import *\n",
    "import e3sm_res_cmp\n",
    "%matplotlib inline"
   ]
  },
  {
   "cell_type": "code",
   "execution_count": null,
   "metadata": {},
   "outputs": [],
   "source": [
    "# get paths of restart files, monthly mean output files, processed climatology files and output figures\n",
    "rst_root, mon_root, climo_root, fig_root = e3sm_res_cmp.load_paths_ocn()\n",
    "rst_file = rst_root+'/mpaso.rst.0051-01-01_00000.nc'\n",
    "mon_file = mon_root+'/mpaso.hist.am.timeSeriesStatsMonthly.0041-01-01.nc'"
   ]
  },
  {
   "cell_type": "code",
   "execution_count": null,
   "metadata": {},
   "outputs": [],
   "source": [
    "# flags\n",
    "save_fig = False"
   ]
  },
  {
   "cell_type": "code",
   "execution_count": null,
   "metadata": {},
   "outputs": [],
   "source": [
    "# load dataset\n",
    "f_rst = Dataset(rst_file, 'r')\n",
    "f_mon = Dataset(mon_file, 'r')"
   ]
  },
  {
   "cell_type": "code",
   "execution_count": null,
   "metadata": {},
   "outputs": [],
   "source": [
    "# read grid information\n",
    "lon = np.degrees(f_rst.variables['lonCell'][:])\n",
    "lat = np.degrees(f_rst.variables['latCell'][:])\n",
    "cellArea = f_rst.variables['areaCell'][:]\n",
    "\n",
    "refBottomDepth = f_rst.variables['refBottomDepth'][:]\n",
    "nVertLevels = len(refBottomDepth)\n",
    "refTopDepth = np.zeros(nVertLevels)\n",
    "refTopDepth[1:nVertLevels] = refBottomDepth[0:nVertLevels-1]\n",
    "refLayerThickness = refTopDepth-refBottomDepth\n",
    "refMidDepth = 0.5*(refTopDepth+refBottomDepth)"
   ]
  },
  {
   "cell_type": "code",
   "execution_count": null,
   "metadata": {},
   "outputs": [],
   "source": [
    "ncvar_temp = f_mon.variables['timeMonthly_avg_activeTracers_temperature']\n",
    "temp = ncvar_temp[0,:,:]\n",
    "print(temp.shape)"
   ]
  },
  {
   "cell_type": "code",
   "execution_count": null,
   "metadata": {},
   "outputs": [],
   "source": [
    "mpaso_temp = MPASOVolume(data=temp, lon=lon, lat=lat, depth=refMidDepth, cellarea=cellArea,\n",
    "                         name='Temperature', units='degC')\n",
    "lon0 = 320\n",
    "lat0 = 40\n",
    "lon1 = 310\n",
    "lat1 = 60\n",
    "p = mpaso_temp.get_vertical_cross_section(lon0=lon0, lat0=lat0, lon1=lon1, lat1=lat1, depth_bottom=1000)"
   ]
  },
  {
   "cell_type": "code",
   "execution_count": null,
   "metadata": {},
   "outputs": [],
   "source": [
    "p.plot(ptype='pcolor')"
   ]
  },
  {
   "cell_type": "code",
   "execution_count": null,
   "metadata": {},
   "outputs": [],
   "source": [
    "mpaso_sst = MPASOMap(data=temp[:,0], lat=lat, lon=lon, cellarea=cellArea, name='SST', units='degC')\n",
    "m = mpaso_sst.plot(region='LabSea')\n",
    "x, y = m(p.lon, p.lat)\n",
    "m.scatter(x, y, color='r',s=10, marker='.')\n",
    "m.drawgreatcircle(lon0, lat0, lon1, lat1, color='y')\n",
    "type(m)"
   ]
  },
  {
   "cell_type": "code",
   "execution_count": null,
   "metadata": {},
   "outputs": [],
   "source": [
    "mpaso_temp.get_map(depth=500).plot(region='LabSea')"
   ]
  },
  {
   "cell_type": "code",
   "execution_count": null,
   "metadata": {},
   "outputs": [],
   "source": []
  }
 ],
 "metadata": {
  "kernelspec": {
   "display_name": "Python 3",
   "language": "python",
   "name": "python3"
  },
  "language_info": {
   "codemirror_mode": {
    "name": "ipython",
    "version": 3
   },
   "file_extension": ".py",
   "mimetype": "text/x-python",
   "name": "python",
   "nbconvert_exporter": "python",
   "pygments_lexer": "ipython3",
   "version": "3.6.5"
  }
 },
 "nbformat": 4,
 "nbformat_minor": 2
}
