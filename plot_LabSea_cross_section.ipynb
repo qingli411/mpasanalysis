{
 "cells": [
  {
   "cell_type": "code",
   "execution_count": null,
   "metadata": {},
   "outputs": [],
   "source": [
    "from mpasanalysis import *\n",
    "import e3sm_res_cmp\n",
    "%matplotlib inline"
   ]
  },
  {
   "cell_type": "code",
   "execution_count": null,
   "metadata": {},
   "outputs": [],
   "source": [
    "# get paths of restart files, monthly mean output files, processed climatology files and output figures\n",
    "data_root = e3sm_res_cmp.load_paths_ocn(climo_ys=41, climo_ye=50, ts_ys=1, ts_ye=50)\n",
    "rst_root = data_root['rst_root']\n",
    "mon_root = data_root['mon_root']\n",
    "fig_root = data_root['fig_root']\n",
    "rst_file = rst_root+'/mpaso.rst.0051-01-01_00000.nc'\n",
    "mon_file = mon_root+'/mpaso.hist.am.timeSeriesStatsMonthly.0041-01-01.nc'"
   ]
  },
  {
   "cell_type": "code",
   "execution_count": null,
   "metadata": {},
   "outputs": [],
   "source": [
    "# flags\n",
    "save_fig = False"
   ]
  },
  {
   "cell_type": "code",
   "execution_count": null,
   "metadata": {},
   "outputs": [],
   "source": [
    "# load dataset\n",
    "f_rst = Dataset(rst_file, 'r')\n",
    "f_mon = Dataset(mon_file, 'r')"
   ]
  },
  {
   "cell_type": "code",
   "execution_count": null,
   "metadata": {},
   "outputs": [],
   "source": [
    "# read grid information\n",
    "lon = np.degrees(f_rst.variables['lonCell'][:])\n",
    "lat = np.degrees(f_rst.variables['latCell'][:])\n",
    "cellArea = f_rst.variables['areaCell'][:]\n",
    "\n",
    "refBottomDepth = f_rst.variables['refBottomDepth'][:]\n",
    "nVertLevels = len(refBottomDepth)\n",
    "refTopDepth = np.zeros(nVertLevels)\n",
    "refTopDepth[1:nVertLevels] = refBottomDepth[0:nVertLevels-1]\n",
    "refLayerThickness = refTopDepth-refBottomDepth\n",
    "refMidDepth = 0.5*(refTopDepth+refBottomDepth)"
   ]
  },
  {
   "cell_type": "markdown",
   "metadata": {},
   "source": [
    "## Cross sections"
   ]
  },
  {
   "cell_type": "code",
   "execution_count": null,
   "metadata": {},
   "outputs": [],
   "source": [
    "# cross section 1\n",
    "s1_s_lat = 62\n",
    "s1_s_lon = 300\n",
    "s1_e_lat = 50\n",
    "s1_e_lon = 320\n",
    "# cross section 2\n",
    "s2_s_lat = 54\n",
    "s2_s_lon = 305\n",
    "s2_e_lat = 60.5\n",
    "s2_e_lon = 313\n"
   ]
  },
  {
   "cell_type": "markdown",
   "metadata": {},
   "source": [
    "## Bathymetry"
   ]
  },
  {
   "cell_type": "code",
   "execution_count": null,
   "metadata": {},
   "outputs": [],
   "source": [
    "fig = plt.figure(figsize=[6,6])\n",
    "levels = np.linspace(0, 6000, 13)\n",
    "bottomDepth = f_rst.variables['bottomDepth'][:]\n",
    "mpaso_bath = MPASOMap(data=bottomDepth, lat=lat, lon=lon, cellarea=cellArea, name='Bottom Depth', units='m')\n",
    "m = mpaso_bath.plot(region='LabSea', ptype='contourf', cmap='bone_r', levels=levels)\n",
    "m.drawgreatcircle(s1_s_lon, s1_s_lat, s1_e_lon, s1_e_lat, color='y')\n",
    "m.drawgreatcircle(s2_s_lon, s2_s_lat, s2_e_lon, s2_e_lat, color='y')\n",
    "plt.show()\n",
    "figname = fig_root+'/LabSea_bathymetry.png'\n",
    "fig.savefig(figname, dpi = 300)\n",
    "plt.close(fig)"
   ]
  },
  {
   "cell_type": "markdown",
   "metadata": {},
   "source": [
    "## Temperature"
   ]
  },
  {
   "cell_type": "code",
   "execution_count": null,
   "metadata": {},
   "outputs": [],
   "source": [
    "ncvar_temp = f_mon.variables['timeMonthly_avg_activeTracers_temperature']\n",
    "temp = ncvar_temp[0,:,:]\n",
    "mpaso_temp = MPASOVolume(data=temp, lon=lon, lat=lat, depth=refMidDepth, cellarea=cellArea,\n",
    "                         name='Temperature', units='degC')\n",
    "levels = np.linspace(-2, 26, 57)"
   ]
  },
  {
   "cell_type": "markdown",
   "metadata": {},
   "source": [
    "### Temperature map at different depths"
   ]
  },
  {
   "cell_type": "code",
   "execution_count": null,
   "metadata": {},
   "outputs": [],
   "source": [
    "depth_list = [0, 100, 200, 500, 1000]\n",
    "for depth in depth_list:\n",
    "    fig = plt.figure(figsize=[6,6])\n",
    "    mpaso_dat = mpaso_temp.get_map(depth=depth)\n",
    "    m = mpaso_dat.plot(region='LabSea', levels=levels)\n",
    "    m.drawgreatcircle(s1_s_lon, s1_s_lat, s1_e_lon, s1_e_lat, color='y')\n",
    "    m.drawgreatcircle(s2_s_lon, s2_s_lat, s2_e_lon, s2_e_lat, color='y')\n",
    "    plt.show()\n",
    "    figname = fig_root+'/LabSea_Map_temperature_D{:d}.png'.format(depth)\n",
    "    fig.savefig(figname, dpi = 300)\n",
    "    plt.close(fig)"
   ]
  },
  {
   "cell_type": "code",
   "execution_count": null,
   "metadata": {},
   "outputs": [],
   "source": [
    "### Vertical cross sections of temeprature"
   ]
  },
  {
   "cell_type": "code",
   "execution_count": null,
   "metadata": {},
   "outputs": [],
   "source": [
    "# section 1\n",
    "fig = plt.figure(figsize=[6,4])\n",
    "mpaso_vcsec1 = mpaso_temp.get_vertical_cross_section(lon0=s1_s_lon, lat0=s1_s_lat, lon1=s1_e_lon, lat1=s1_e_lat)\n",
    "mpaso_vcsec1.plot(levels=levels, depth_mode='native')\n",
    "plt.show()\n",
    "figname = fig_root+'/LabSea_VCSec1_temperature.png'\n",
    "fig.savefig(figname, dpi = 300)\n",
    "plt.close(fig)\n"
   ]
  },
  {
   "cell_type": "code",
   "execution_count": null,
   "metadata": {},
   "outputs": [],
   "source": [
    "# section 2\n",
    "fig = plt.figure(figsize=[6,4])\n",
    "mpaso_vcsec2 = mpaso_temp.get_vertical_cross_section(lon0=s2_s_lon, lat0=s2_s_lat,\n",
    "                                                     lon1=s2_e_lon, lat1=s2_e_lat, depth_bottom=4500)\n",
    "mpaso_vcsec2.plot(levels=levels, depth_mode='native')\n",
    "plt.show()\n",
    "figname = fig_root+'/LabSea_VCSec2_temperature.png'\n",
    "fig.savefig(figname, dpi = 300)\n",
    "plt.close(fig)"
   ]
  },
  {
   "cell_type": "markdown",
   "metadata": {},
   "source": [
    "## Salinity"
   ]
  },
  {
   "cell_type": "code",
   "execution_count": null,
   "metadata": {},
   "outputs": [],
   "source": [
    "ncvar_salt = f_mon.variables['timeMonthly_avg_activeTracers_salinity']\n",
    "salt = ncvar_salt[0,:,:]\n",
    "mpaso_salt = MPASOVolume(data=salt, lon=lon, lat=lat, depth=refMidDepth, cellarea=cellArea,\n",
    "                         name='Salinity', units='psu')\n",
    "levels = np.linspace(16, 40, 49)"
   ]
  },
  {
   "cell_type": "markdown",
   "metadata": {},
   "source": [
    "### Salinity map at different depths"
   ]
  },
  {
   "cell_type": "code",
   "execution_count": null,
   "metadata": {},
   "outputs": [],
   "source": [
    "depth_list = [0, 100, 200, 500, 1000]\n",
    "for depth in depth_list:\n",
    "    fig = plt.figure(figsize=[6,6])\n",
    "    mpaso_dat = mpaso_salt.get_map(depth=depth)\n",
    "    m = mpaso_dat.plot(region='LabSea', levels=levels)\n",
    "    m.drawgreatcircle(s1_s_lon, s1_s_lat, s1_e_lon, s1_e_lat, color='y')\n",
    "    m.drawgreatcircle(s2_s_lon, s2_s_lat, s2_e_lon, s2_e_lat, color='y')\n",
    "    plt.show()\n",
    "    figname = fig_root+'/LabSea_Map_salinity_D{:d}.png'.format(depth)\n",
    "    fig.savefig(figname, dpi = 300)\n",
    "    plt.close(fig)"
   ]
  },
  {
   "cell_type": "code",
   "execution_count": null,
   "metadata": {},
   "outputs": [],
   "source": [
    "### Vertical cross sections of temeprature"
   ]
  },
  {
   "cell_type": "code",
   "execution_count": null,
   "metadata": {},
   "outputs": [],
   "source": [
    "# section 1\n",
    "fig = plt.figure(figsize=[6,4])\n",
    "mpaso_vcsec1 = mpaso_salt.get_vertical_cross_section(lon0=s1_s_lon, lat0=s1_s_lat, lon1=s1_e_lon, lat1=s1_e_lat)\n",
    "mpaso_vcsec1.plot(levels=levels, depth_mode='native')\n",
    "plt.show()\n",
    "figname = fig_root+'/LabSea_VCSec1_salinity.png'\n",
    "fig.savefig(figname, dpi = 300)\n",
    "plt.close(fig)"
   ]
  },
  {
   "cell_type": "code",
   "execution_count": null,
   "metadata": {},
   "outputs": [],
   "source": [
    "# section 2\n",
    "fig = plt.figure(figsize=[6,4])\n",
    "mpaso_vcsec2 = mpaso_salt.get_vertical_cross_section(lon0=s2_s_lon, lat0=s2_s_lat,\n",
    "                                                     lon1=s2_e_lon, lat1=s2_e_lat, depth_bottom=500)\n",
    "mpaso_vcsec2.plot(levels=levels, depth_mode='symlog')\n",
    "\n",
    "plt.show()\n",
    "figname = fig_root+'/LabSea_VCSec2_salinity.png'\n",
    "fig.savefig(figname, dpi = 300)\n",
    "plt.close(fig)"
   ]
  },
  {
   "cell_type": "code",
   "execution_count": null,
   "metadata": {},
   "outputs": [],
   "source": []
  }
 ],
 "metadata": {
  "kernelspec": {
   "display_name": "Python 3",
   "language": "python",
   "name": "python3"
  },
  "language_info": {
   "codemirror_mode": {
    "name": "ipython",
    "version": 3
   },
   "file_extension": ".py",
   "mimetype": "text/x-python",
   "name": "python",
   "nbconvert_exporter": "python",
   "pygments_lexer": "ipython3",
   "version": "3.7.2"
  }
 },
 "nbformat": 4,
 "nbformat_minor": 2
}
