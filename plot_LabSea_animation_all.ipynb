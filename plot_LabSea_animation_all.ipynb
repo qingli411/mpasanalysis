{
 "cells": [
  {
   "cell_type": "code",
   "execution_count": 1,
   "metadata": {
    "lines_to_next_cell": 1
   },
   "outputs": [],
   "source": [
    "from mpasanalysis import *\n",
    "import e3sm_res_cmp"
   ]
  },
  {
   "cell_type": "code",
   "execution_count": 2,
   "metadata": {
    "lines_to_next_cell": 1
   },
   "outputs": [],
   "source": [
    "def main():\n",
    "    global fig_dir\n",
    "    global lon, lat, refMidDepth, cellArea, refLayerThickness, bottomDepth\n",
    "    global s1_s_lon, s1_s_lat, s1_e_lon, s1_e_lat\n",
    "    global s2_s_lon, s2_s_lat, s2_e_lon, s2_e_lat\n",
    "\n",
    "    # get paths of restart files, monthly mean output files, processed climatology files and output figures\n",
    "    ts_ys = 1\n",
    "    ts_ye = 25\n",
    "    plt_ys = 41\n",
    "    plt_ye = 41\n",
    "    nmon = 1 # 12 for production and 1 for testing\n",
    "    data_root = e3sm_res_cmp.load_paths_ocn(climo_ys=ts_ys, climo_ye=ts_ye, ts_ys=ts_ys, ts_ye=ts_ye)\n",
    "    rst_root = data_root['rst_root']\n",
    "    mon_root = data_root['mon_root']\n",
    "    fig_root = data_root['fig_root']\n",
    "    rst_file = rst_root+'/mpaso.rst.{:04d}-01-01_00000.nc'.format(ts_ye+1)\n",
    "    data_root_ice = e3sm_res_cmp.load_paths_ice(climo_ys=ts_ys, climo_ye=ts_ye, ts_ys=ts_ys, ts_ye=ts_ye)\n",
    "    mon_root_ice = data_root_ice['mon_root']\n",
    "\n",
    "    # load dataset\n",
    "    f_rst = Dataset(rst_file, 'r')\n",
    "\n",
    "    # read grid information\n",
    "    lon = np.degrees(f_rst.variables['lonCell'][:])\n",
    "    lat = np.degrees(f_rst.variables['latCell'][:])\n",
    "    cellArea = f_rst.variables['areaCell'][:]\n",
    "    bottomDepth = f_rst.variables['bottomDepth'][:]\n",
    "\n",
    "    refBottomDepth = f_rst.variables['refBottomDepth'][:]\n",
    "    nVertLevels = len(refBottomDepth)\n",
    "    refTopDepth = np.zeros(nVertLevels)\n",
    "    refTopDepth[1:nVertLevels] = refBottomDepth[0:nVertLevels-1]\n",
    "    refLayerThickness = refTopDepth-refBottomDepth\n",
    "    refMidDepth = 0.5*(refTopDepth+refBottomDepth)\n",
    "\n",
    "    # ### Cross sections\n",
    "\n",
    "    # cross section 1\n",
    "    s1_s_lat = 63\n",
    "    s1_s_lon = 296\n",
    "    s1_e_lat = 50\n",
    "    s1_e_lon = 320\n",
    "    # cross section 2 (WOCE AR7W)\n",
    "    s2_s_lat = 53.5\n",
    "    s2_s_lon = 304.5\n",
    "    s2_e_lat = 61\n",
    "    s2_e_lon = 312\n",
    "\n",
    "    # ### Salinity (psu) with ice fraction (unitless)\n",
    "\n",
    "    varname = 'timeMonthly_avg_activeTracers_salinity'\n",
    "    units = 'psu'\n",
    "    levels = np.linspace(28, 36, 41)\n",
    "    varname1 = 'timeMonthly_avg_iceAreaCell'\n",
    "    levels1 = [0.15, 0.85]\n",
    "    units1 = 'unitless'\n",
    "\n",
    "    fig_dir = fig_root+'/Animation/'+varname\n",
    "    os.makedirs(fig_dir, exist_ok=True)\n",
    "    # for y in np.arange(plt_ye-plt_ys+1):\n",
    "    #     for m in np.arange(nmon):\n",
    "    for y in [41]:\n",
    "        for m in [1]:\n",
    "            print('{:04d}-{:02d}'.format(y, m))\n",
    "            mon_file = mon_root+'/mpaso.hist.am.timeSeriesStatsMonthly.{:04d}-{:02d}-01.nc'.format(y, m)\n",
    "            print(mon_file)\n",
    "            f_mon = Dataset(mon_file, 'r')\n",
    "            mon_file1 = mon_root_ice+'/mpascice.hist.am.timeSeriesStatsMonthly.{:04d}-{:02d}-01.nc'.format(y, m)\n",
    "            print(mon_file1)\n",
    "            f_mon1 = Dataset(mon_file1, 'r')\n",
    "            plot_labsea_ocn_ice(f_mon, f_mon1, varname, varname1, units, units1, levels, levels1, y, m)\n",
    "            f_mon.close()\n",
    "            f_mon1.close()"
   ]
  },
  {
   "cell_type": "code",
   "execution_count": 3,
   "metadata": {
    "lines_to_next_cell": 1
   },
   "outputs": [],
   "source": [
    "def plot_labsea_ocn_ice(f_ocn, f_ice, vname_ocn, vname_ice, units_ocn, units_ice, levels_ocn, levels_ice, iyear, imon):\n",
    "    \"\"\"Plot map.\n",
    "\n",
    "    :f_ocn: (netcdf4 Dataset) ocean input file\n",
    "    :f_ice: (netcdf4 Dataset) sea ice input file\n",
    "    :vname_ocn: (str) ocean variable name\n",
    "    :vname_ice: (str) sea ice variable name\n",
    "    :units_ocn: (str) ocean variable units\n",
    "    :units_ice: (str) sea ice variable units\n",
    "    :levels_ocn: (list) levels for ocean contour\n",
    "    :levels_ice: (list) levels for sea ice contour\n",
    "    :iyear: (int) year index\n",
    "    :imon: (int) month index\n",
    "    :returns: TODO\n",
    "\n",
    "    \"\"\"\n",
    "    global fig_dir\n",
    "    global lon, lat, refMidDepth, cellArea\n",
    "    global s1_s_lon, s1_s_lat, s1_e_lon, s1_e_lat\n",
    "    global s2_s_lon, s2_s_lat, s2_e_lon, s2_e_lat\n",
    "\n",
    "    # read monthly mean ocean data\n",
    "    data_ocn = f_ocn.variables[vname_ocn][0,:,:]\n",
    "    mpasovol_obj = MPASOVolume(data=data_ocn, lat=lat, lon=lon, depth=refMidDepth, cellarea=cellArea,\n",
    "                               layerthickness=refLayerThickness, bottomdepth=bottomDepth,\n",
    "                               name=vname_ocn, units=units_ocn)\n",
    "    mpaso_obj = mpasovol_obj.get_map(depth=0.0)\n",
    "    # read monthly mean sea ice data\n",
    "    data_ice = f_ice.variables[vname_ice][0,:]\n",
    "    mpascice_obj = MPASCICEMap(data=data_ice, lat=lat, lon=lon, cellarea=cellArea,\n",
    "                               name=vname_ice, units=units_ice)\n",
    "    # year and month\n",
    "    yyyy = '{:04d}'.format(iyear)\n",
    "    mm = '{:02d}'.format(imon)\n",
    "\n",
    "    # plot figure 1: map\n",
    "    fig = plt.figure(figsize=[6, 5.5])\n",
    "    m,tmp = mpaso_obj.plot(region='LabSea', levels=levels_ocn, ptype='contourf')\n",
    "    mpascice_obj.overlay(m, levels=levels_ice, cmap='bone_r')\n",
    "    m.drawgreatcircle(s1_s_lon, s1_s_lat, s1_e_lon, s1_e_lat, color='gray')\n",
    "    m.drawgreatcircle(s2_s_lon, s2_s_lat, s2_e_lon, s2_e_lat, color='gray')\n",
    "    axis = plt.gca()\n",
    "    axis.text(0.06, 0.62, yyyy+'-'+mm, transform=axis.transAxes,\n",
    "                 fontsize=12, color='k', va='top',\n",
    "                 bbox=dict(boxstyle='square',ec='k',fc='w'))\n",
    "    figname = fig_dir+'/LabSea_climo_Map_'+yyyy+'-'+mm+'.png'\n",
    "    fig.savefig(figname, dpi = 300)\n",
    "    plt.close(fig)\n",
    "\n",
    "    # plot figure 2: vertical cross section 1\n",
    "    fig = plt.figure(figsize=[6, 4])\n",
    "    mpaso_vcsec1 = mpasovol_obj.get_vertical_cross_section(lon0=s1_s_lon, lat0=s1_s_lat,\n",
    "                                                           lon1=s1_e_lon, lat1=s1_e_lat)\n",
    "    mpaso_vcsec1.plot(levels=levels_ocn, depth_mode='native')\n",
    "    axis = plt.gca()\n",
    "    axis.text(0.06, 0.12, yyyy+'-'+mm, transform=axis.transAxes,\n",
    "                 fontsize=12, color='k', va='top',\n",
    "                 bbox=dict(boxstyle='square',ec='k',fc='w'))\n",
    "    figname = fig_dir+'/LabSea_climo_VCSec1_'+yyyy+'-'+mm+'.png'\n",
    "    fig.savefig(figname, dpi = 300)\n",
    "    plt.close(fig)\n",
    "\n",
    "    # figure 3: vertical cross section 2\n",
    "    fig = plt.figure(figsize=[6, 4])\n",
    "    mpaso_vcsec2 = mpasovol_obj.get_vertical_cross_section(lon0=s2_s_lon, lat0=s2_s_lat,\n",
    "                                                         lon1=s2_e_lon, lat1=s2_e_lat, depth_bottom=4500)\n",
    "    mpaso_vcsec2.plot(levels=levels_ocn, depth_mode='native')\n",
    "    axis = plt.gca()\n",
    "    axis.text(0.06, 0.12, yyyy+'-'+mm, transform=axis.transAxes,\n",
    "                 fontsize=12, color='k', va='top',\n",
    "                 bbox=dict(boxstyle='square',ec='k',fc='w'))\n",
    "    figname = fig_dir+'/LabSea_climo_VCSec2_'+yyyy+'-'+mm+'.png'\n",
    "    fig.savefig(figname, dpi = 300)\n",
    "    plt.close(fig)"
   ]
  },
  {
   "cell_type": "code",
   "execution_count": 4,
   "metadata": {},
   "outputs": [
    {
     "name": "stdout",
     "output_type": "stream",
     "text": [
      "Running on machine pn1803144.lanl.gov\n",
      "Running on machine pn1803144.lanl.gov\n",
      "0041-01\n",
      "/Users/qingli/data/mpas/test/mpaso.hist.am.timeSeriesStatsMonthly.0041-01-01.nc\n",
      "/Users/qingli/data/mpas/test/mpascice.hist.am.timeSeriesStatsMonthly.0041-01-01.nc\n",
      "Plotting map of timeMonthly_avg_activeTracers_salinity at   5.00 m (psu) at region 'LabSea'\n"
     ]
    },
    {
     "name": "stderr",
     "output_type": "stream",
     "text": [
      "/Users/qingli/miniconda3/lib/python3.7/site-packages/matplotlib/contour.py:1000: UserWarning: The following kwargs were not used by contour: 'tri'\n",
      "  s)\n"
     ]
    },
    {
     "name": "stdout",
     "output_type": "stream",
     "text": [
      "Nearest neighbor interpolation to 53 points.\n",
      "Nearest neighbor interpolation to 25 points.\n"
     ]
    }
   ],
   "source": [
    "if __name__ == \"__main__\":\n",
    "    main()"
   ]
  },
  {
   "cell_type": "code",
   "execution_count": null,
   "metadata": {},
   "outputs": [],
   "source": []
  },
  {
   "cell_type": "code",
   "execution_count": null,
   "metadata": {},
   "outputs": [],
   "source": []
  }
 ],
 "metadata": {
  "jupytext": {
   "cell_metadata_filter": "-all",
   "main_language": "python",
   "notebook_metadata_filter": "-all"
  },
  "kernelspec": {
   "display_name": "Python 3",
   "language": "python",
   "name": "python3"
  },
  "language_info": {
   "codemirror_mode": {
    "name": "ipython",
    "version": 3
   },
   "file_extension": ".py",
   "mimetype": "text/x-python",
   "name": "python",
   "nbconvert_exporter": "python",
   "pygments_lexer": "ipython3",
   "version": "3.7.1"
  }
 },
 "nbformat": 4,
 "nbformat_minor": 2
}
