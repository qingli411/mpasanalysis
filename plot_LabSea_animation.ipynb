{
 "cells": [
  {
   "cell_type": "code",
   "execution_count": null,
   "metadata": {},
   "outputs": [],
   "source": [
    "from mpasanalysis import *\n",
    "import e3sm_res_cmp\n",
    "%matplotlib inline"
   ]
  },
  {
   "cell_type": "code",
   "execution_count": null,
   "metadata": {},
   "outputs": [],
   "source": [
    "# get paths of restart files, monthly mean output files, processed climatology files and output figures\n",
    "ts_ys = 1\n",
    "ts_ye = 25\n",
    "data_root = e3sm_res_cmp.load_paths_ocn(climo_ys=1, climo_ye=10, ts_ys=ts_ys, ts_ye=ts_ye)\n",
    "rst_root = data_root['rst_root']\n",
    "ts_root = data_root['ts_root']\n",
    "fig_root = data_root['fig_root']\n",
    "rst_file = rst_root+'/mpaso.rst.0051-01-01_00000.nc'"
   ]
  },
  {
   "cell_type": "code",
   "execution_count": null,
   "metadata": {},
   "outputs": [],
   "source": [
    "# load dataset\n",
    "f_rst = Dataset(rst_file, 'r')"
   ]
  },
  {
   "cell_type": "code",
   "execution_count": null,
   "metadata": {},
   "outputs": [],
   "source": [
    "# read grid information\n",
    "lon = np.degrees(f_rst.variables['lonCell'][:])\n",
    "lat = np.degrees(f_rst.variables['latCell'][:])\n",
    "cellArea = f_rst.variables['areaCell'][:]\n"
   ]
  },
  {
   "cell_type": "markdown",
   "metadata": {},
   "source": [
    "### Mixed Layer Depth (m)"
   ]
  },
  {
   "cell_type": "code",
   "execution_count": null,
   "metadata": {},
   "outputs": [],
   "source": [
    "grpname = 'mixedLayerDepth'\n",
    "varname = 'timeMonthly_avg_dThreshMLD'\n",
    "ts_file = ts_root+'/{:s}/{:s}_{:04d}01_{:04d}12.nc'.format(grpname, varname, ts_ys, ts_ye)\n",
    "f_ts = Dataset(ts_file, 'r')\n",
    "ncvar = f_ts.variables[varname]\n",
    "data = ncvar[:]\n",
    "nt = data.shape[0]\n",
    "fig_dir = fig_root+'/Animation/'+varname\n",
    "os.makedirs(fig_dir, exist_ok=True)\n",
    "levels = np.array([0, 10, 20, 30, 40, 50, 60, 70, 80, 90,\n",
    "                   110, 130, 150, 180, 210, 240, 280, 320, 360,\n",
    "                   407, 454, 500, 1000, 1500, 2000])\n",
    "for y in np.arange(ts_ye-ts_ys+1):\n",
    "    yyyy = '{:04d}'.format(y+1)\n",
    "    for m in np.arange(12):\n",
    "        fig = plt.figure(figsize=[6,6])\n",
    "        mm = '{:02d}'.format(m+1)\n",
    "        i = 12*y+m\n",
    "        mpaso_obj = MPASOMap(data=data[i,:], lat=lat, lon=lon, cellarea=cellArea, name=varname, units=ncvar.units)\n",
    "        mpaso_obj.plot(region='LabSea', levels=levels)\n",
    "        axis = plt.gca()\n",
    "        axis.text(0.08, 0.92, yyyy+'-'+mm, transform=axis.transAxes,\n",
    "                     fontsize=12, color='k', va='top',\n",
    "                     bbox=dict(boxstyle='square',ec='k',fc='w'))\n",
    "        plt.show()\n",
    "        figname = fig_dir+'/LabSea_climo_'+yyyy+'-'+mm+'.png'\n",
    "        fig.savefig(figname, dpi = 300)\n",
    "        plt.close(fig)\n",
    "    "
   ]
  },
  {
   "cell_type": "code",
   "execution_count": null,
   "metadata": {},
   "outputs": [],
   "source": []
  },
  {
   "cell_type": "code",
   "execution_count": null,
   "metadata": {},
   "outputs": [],
   "source": []
  }
 ],
 "metadata": {
  "kernelspec": {
   "display_name": "Python 3",
   "language": "python",
   "name": "python3"
  },
  "language_info": {
   "codemirror_mode": {
    "name": "ipython",
    "version": 3
   },
   "file_extension": ".py",
   "mimetype": "text/x-python",
   "name": "python",
   "nbconvert_exporter": "python",
   "pygments_lexer": "ipython3",
   "version": "3.6.5"
  }
 },
 "nbformat": 4,
 "nbformat_minor": 2
}
