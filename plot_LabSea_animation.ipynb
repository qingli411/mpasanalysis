{
 "cells": [
  {
   "cell_type": "code",
   "execution_count": null,
   "metadata": {},
   "outputs": [],
   "source": [
    "from mpasanalysis import *\n",
    "import e3sm_res_cmp\n",
    "%matplotlib inline"
   ]
  },
  {
   "cell_type": "code",
   "execution_count": null,
   "metadata": {},
   "outputs": [],
   "source": [
    "# get paths of restart files, monthly mean output files, processed climatology files and output figures\n",
    "ts_ys = 1\n",
    "ts_ye = 25\n",
    "plt_ys = 1\n",
    "plt_ye = 1\n",
    "nmon = 1 # 12 for production and 1 for testing\n",
    "data_root = e3sm_res_cmp.load_paths_ocn(climo_ys=ts_ys, climo_ye=ts_ye, ts_ys=ts_ys, ts_ye=ts_ye)\n",
    "rst_root = data_root['rst_root']\n",
    "ts_root = data_root['ts_root']\n",
    "fig_root = data_root['fig_root']\n",
    "rst_file = rst_root+'/mpaso.rst.{:04d}-01-01_00000.nc'.format(ts_ye+1)\n",
    "data_root_ice = e3sm_res_cmp.load_paths_ice(climo_ys=ts_ys, climo_ye=ts_ye, ts_ys=ts_ys, ts_ye=ts_ye)\n",
    "ts_root_ice = data_root_ice['ts_root']"
   ]
  },
  {
   "cell_type": "code",
   "execution_count": null,
   "metadata": {},
   "outputs": [],
   "source": [
    "# load dataset\n",
    "f_rst = Dataset(rst_file, 'r')"
   ]
  },
  {
   "cell_type": "code",
   "execution_count": null,
   "metadata": {},
   "outputs": [],
   "source": [
    "# read grid information\n",
    "lon = np.degrees(f_rst.variables['lonCell'][:])\n",
    "lat = np.degrees(f_rst.variables['latCell'][:])\n",
    "cellArea = f_rst.variables['areaCell'][:]\n"
   ]
  },
  {
   "cell_type": "markdown",
   "metadata": {},
   "source": [
    "### Cross section"
   ]
  },
  {
   "cell_type": "code",
   "execution_count": null,
   "metadata": {},
   "outputs": [],
   "source": [
    "# cross section 1\n",
    "s1_s_lat = 63\n",
    "s1_s_lon = 296\n",
    "s1_e_lat = 50\n",
    "s1_e_lon = 320\n",
    "# cross section 2 (WOCE AR7W)\n",
    "s2_s_lat = 53.5\n",
    "s2_s_lon = 304.5\n",
    "s2_e_lat = 61\n",
    "s2_e_lon = 312"
   ]
  },
  {
   "cell_type": "markdown",
   "metadata": {},
   "source": [
    "### Mixed Layer Depth (m)"
   ]
  },
  {
   "cell_type": "code",
   "execution_count": null,
   "metadata": {},
   "outputs": [],
   "source": [
    "grpname = 'mixedLayerDepth'\n",
    "varname = 'timeMonthly_avg_dThreshMLD'\n",
    "levels = np.array([0, 10, 20, 30, 40, 50, 60, 70, 80, 90,\n",
    "                   110, 130, 150, 180, 210, 240, 280, 320, 360,\n",
    "                   407, 454, 500, 1000, 1500, 2000])\n",
    "ts_file = ts_root+'/{:s}/{:s}_{:04d}01_{:04d}12.nc'.format(grpname, varname, ts_ys, ts_ye)\n",
    "f_ts = Dataset(ts_file, 'r')\n",
    "ncvar = f_ts.variables[varname]\n",
    "data = ncvar[:]\n",
    "nt = data.shape[0]\n",
    "fig_dir = fig_root+'/Animation/'+varname\n",
    "os.makedirs(fig_dir, exist_ok=True)\n",
    "for y in np.arange(plt_ye-plt_ys+1):\n",
    "    yyyy = '{:04d}'.format(y+1)\n",
    "    for m in np.arange(nmon):\n",
    "        fig = plt.figure(figsize=[6,6])\n",
    "        mm = '{:02d}'.format(m+1)\n",
    "        i = 12*y+m\n",
    "        mpaso_obj = MPASOMap(data=data[i,:], lat=lat, lon=lon, cellarea=cellArea, name=varname, units=ncvar.units)\n",
    "        mpaso_obj.plot(region='LabSea', levels=levels)\n",
    "        axis = plt.gca()\n",
    "        axis.text(0.06, 0.62, yyyy+'-'+mm, transform=axis.transAxes,\n",
    "                     fontsize=12, color='k', va='top',\n",
    "                     bbox=dict(boxstyle='square',ec='k',fc='w'))\n",
    "        plt.show()\n",
    "        figname = fig_dir+'/LabSea_climo_'+yyyy+'-'+mm+'.png'\n",
    "        fig.savefig(figname, dpi = 300)\n",
    "        plt.close(fig)\n",
    "    "
   ]
  },
  {
   "cell_type": "markdown",
   "metadata": {},
   "source": [
    "### Salinity (psu) with ice fraction (unitless)"
   ]
  },
  {
   "cell_type": "code",
   "execution_count": null,
   "metadata": {},
   "outputs": [],
   "source": [
    "grpname = 'salinity'\n",
    "varname = 'timeMonthly_avg_activeTracers_salinity'\n",
    "levels = np.linspace(28, 36, 41)\n",
    "ts_file = ts_root+'/{:s}/{:s}_{:04d}01_{:04d}12.nc'.format(grpname, varname, ts_ys, ts_ye)\n",
    "f_ts = Dataset(ts_file, 'r')\n",
    "ncvar = f_ts.variables[varname]\n",
    "data = ncvar[:]\n",
    "grpname1 = 'iceFraction'\n",
    "varname1 = 'timeMonthly_avg_iceAreaCell'\n",
    "levels1 = [0.15, 0.85]\n",
    "ts_file1 = ts_root_ice+'/{:s}/{:s}_{:04d}01_{:04d}12.nc'.format(grpname1, varname1, ts_ys, ts_ye)\n",
    "f_ts1 = Dataset(ts_file1, 'r')\n",
    "ncvar1 = f_ts1.variables[varname1]\n",
    "data1 = ncvar1[:]\n",
    "\n",
    "fig_dir = fig_root+'/Animation/'+varname\n",
    "os.makedirs(fig_dir, exist_ok=True)\n",
    "for y in np.arange(plt_ye-plt_ys+1):\n",
    "    yyyy = '{:04d}'.format(y+1)\n",
    "    for m in np.arange(nmon):\n",
    "        # figure 1: map\n",
    "        fig = plt.figure(figsize=[6,5])\n",
    "        mm = '{:02d}'.format(m+1)\n",
    "        i = 12*y+m\n",
    "        mpasovol_obj = MPASOVolume(data=data[i,:,:], lat=lat, lon=lon, cellarea=cellArea, name=varname, units=ncvar.units)\n",
    "        mpaso_obj = mpasovol_obj.get_map(depth=0.0)\n",
    "        m = mpaso_obj.plot(region='LabSea', levels=levels)\n",
    "        mpascice_obj = MPASCICEMap(data=data1[i,:], lat=lat, lon=lon, cellarea=cellArea, name=varname1, units=None)\n",
    "        mpascice_obj.overlay(m, levels=levels1)\n",
    "        axis = plt.gca()\n",
    "        axis.text(0.06, 0.62, yyyy+'-'+mm, transform=axis.transAxes,\n",
    "                     fontsize=12, color='k', va='top',\n",
    "                     bbox=dict(boxstyle='square',ec='k',fc='w'))\n",
    "        plt.show()\n",
    "        figname = fig_dir+'/LabSea_climo_Map_'+yyyy+'-'+mm+'.png'\n",
    "        fig.savefig(figname, dpi = 300)\n",
    "        plt.close(fig)\n",
    "        # figure 2: vertical cross section 1\n",
    "        fig = plt.figure(figsize=[6,4])\n",
    "        mpaso_vcsec1 = mpasovol_obj.get_vertical_cross_section(lon0=s1_s_lon, lat0=s1_s_lat,\n",
    "                                                             lon1=s1_e_lon, lat1=s1_e_lat)\n",
    "        mpaso_vcsec1.plot(levels=levels, depth_mode='native')\n",
    "        axis = plt.gca()\n",
    "        axis.text(0.06, 0.12, yyyy+'-'+mm, transform=axis.transAxes,\n",
    "                     fontsize=12, color='k', va='top',\n",
    "                     bbox=dict(boxstyle='square',ec='k',fc='w'))\n",
    "        plt.show()\n",
    "        figname = fig_dir+'/LabSea_climo_VCSec1_'+yyyy+'-'+mm+'.png'\n",
    "        fig.savefig(figname, dpi = 300)\n",
    "        plt.close(fig)\n",
    "        # figure 3: vertical cross section 2\n",
    "        fig = plt.figure(figsize=[6,4])\n",
    "        mpaso_vcsec2 = mpasovol_obj.get_vertical_cross_section(lon0=s2_s_lon, lat0=s2_s_lat,\n",
    "                                                             lon1=s2_e_lon, lat1=s2_e_lat, depth_bottom=4500)\n",
    "        mpaso_vcsec2.plot(levels=levels, depth_mode='native')\n",
    "        axis = plt.gca()\n",
    "        axis.text(0.06, 0.12, yyyy+'-'+mm, transform=axis.transAxes,\n",
    "                     fontsize=12, color='k', va='top',\n",
    "                     bbox=dict(boxstyle='square',ec='k',fc='w'))\n",
    "        plt.show()\n",
    "        figname = fig_dir+'/LabSea_climo_VCSec2_'+yyyy+'-'+mm+'.png'\n",
    "        fig.savefig(figname, dpi = 300)\n",
    "        plt.close(fig)\n",
    "    "
   ]
  },
  {
   "cell_type": "markdown",
   "metadata": {},
   "source": [
    "### Temperature (degC) with ice thickness (m)"
   ]
  },
  {
   "cell_type": "code",
   "execution_count": null,
   "metadata": {},
   "outputs": [],
   "source": [
    "grpname = 'temperature'\n",
    "varname = 'timeMonthly_avg_activeTracers_temperature'\n",
    "levels = np.linspace(-2, 26, 57)\n",
    "ts_file = ts_root+'/{:s}/{:s}_{:04d}01_{:04d}12.nc'.format(grpname, varname, ts_ys, ts_ye)\n",
    "f_ts = Dataset(ts_file, 'r')\n",
    "ncvar = f_ts.variables[varname]\n",
    "data = ncvar[:]\n",
    "\n",
    "grpname1 = 'iceThickness'\n",
    "varname1 = 'timeMonthly_avg_iceVolumeCell'\n",
    "levels1 = np.linspace(0.5, 5, 10)\n",
    "ts_file1 = ts_root_ice+'/{:s}/{:s}_{:04d}01_{:04d}12.nc'.format(grpname1, varname1, ts_ys, ts_ye)\n",
    "f_ts1 = Dataset(ts_file1, 'r')\n",
    "ncvar1 = f_ts1.variables[varname1]\n",
    "data1 = ncvar1[:]\n",
    "\n",
    "fig_dir = fig_root+'/Animation/'+varname\n",
    "os.makedirs(fig_dir, exist_ok=True)\n",
    "for y in np.arange(plt_ye-plt_ys+1):\n",
    "    yyyy = '{:04d}'.format(y+1)\n",
    "    for m in np.arange(nmon):\n",
    "        # figure 1: map\n",
    "        fig = plt.figure(figsize=[6,5])\n",
    "        mm = '{:02d}'.format(m+1)\n",
    "        i = 12*y+m\n",
    "        mpaso_obj = MPASOMap(data=data[i,:], lat=lat, lon=lon, cellarea=cellArea, name=varname, units=ncvar.units)\n",
    "        m = mpaso_obj.plot(region='LabSea', levels=levels)\n",
    "        mpascice_obj = MPASCICEMap(data=data1[i,:], lat=lat, lon=lon, cellarea=cellArea, name=varname1, units=None)\n",
    "        mpascice_obj.overlay(m, levels=levels1, cmap='bone_r')\n",
    "        axis = plt.gca()\n",
    "        axis.text(0.06, 0.62, yyyy+'-'+mm, transform=axis.transAxes,\n",
    "                     fontsize=12, color='k', va='top',\n",
    "                     bbox=dict(boxstyle='square',ec='k',fc='w'))\n",
    "        plt.show()\n",
    "        figname = fig_dir+'/LabSea_climo_Map_'+yyyy+'-'+mm+'.png'\n",
    "        fig.savefig(figname, dpi = 300)\n",
    "        plt.close(fig)\n",
    "        # figure 2: vertical cross section 1\n",
    "        fig = plt.figure(figsize=[6,4])\n",
    "        mpaso_vcsec1 = mpaso_temp.get_vertical_cross_section(lon0=s1_s_lon, lat0=s1_s_lat,\n",
    "                                                             lon1=s1_e_lon, lat1=s1_e_lat)\n",
    "        mpaso_vcsec1.plot(levels=levels, depth_mode='native')\n",
    "        axis = plt.gca()\n",
    "        axis.text(0.06, 0.12, yyyy+'-'+mm, transform=axis.transAxes,\n",
    "                     fontsize=12, color='k', va='top',\n",
    "                     bbox=dict(boxstyle='square',ec='k',fc='w'))\n",
    "        plt.show()\n",
    "        figname = fig_dir+'/LabSea_climo_VCSec1_'+yyyy+'-'+mm+'.png'\n",
    "        fig.savefig(figname, dpi = 300)\n",
    "        plt.close(fig)\n",
    "        # figure 3: vertical cross section 2\n",
    "        fig = plt.figure(figsize=[6,4])\n",
    "        mpaso_vcsec2 = mpaso_temp.get_vertical_cross_section(lon0=s2_s_lon, lat0=s2_s_lat,\n",
    "                                                             lon1=s2_e_lon, lat1=s2_e_lat, depth_bottom=4500)\n",
    "        mpaso_vcsec2.plot(levels=levels, depth_mode='native')\n",
    "        axis = plt.gca()\n",
    "        axis.text(0.06, 0.12, yyyy+'-'+mm, transform=axis.transAxes,\n",
    "                     fontsize=12, color='k', va='top',\n",
    "                     bbox=dict(boxstyle='square',ec='k',fc='w'))\n",
    "        plt.show()\n",
    "        figname = fig_dir+'/LabSea_climo_VCSec2_'+yyyy+'-'+mm+'.png'\n",
    "        fig.savefig(figname, dpi = 300)\n",
    "        plt.close(fig)\n",
    "    "
   ]
  },
  {
   "cell_type": "code",
   "execution_count": null,
   "metadata": {},
   "outputs": [],
   "source": []
  },
  {
   "cell_type": "code",
   "execution_count": null,
   "metadata": {},
   "outputs": [],
   "source": []
  }
 ],
 "metadata": {
  "kernelspec": {
   "display_name": "Python 3",
   "language": "python",
   "name": "python3"
  },
  "language_info": {
   "codemirror_mode": {
    "name": "ipython",
    "version": 3
   },
   "file_extension": ".py",
   "mimetype": "text/x-python",
   "name": "python",
   "nbconvert_exporter": "python",
   "pygments_lexer": "ipython3",
   "version": "3.6.5"
  }
 },
 "nbformat": 4,
 "nbformat_minor": 2
}
