{
 "cells": [
  {
   "cell_type": "code",
   "execution_count": null,
   "metadata": {},
   "outputs": [],
   "source": [
    "from mpasanalysis import *\n",
    "import e3sm_res_cmp\n",
    "%matplotlib inline"
   ]
  },
  {
   "cell_type": "code",
   "execution_count": null,
   "metadata": {},
   "outputs": [],
   "source": [
    "# get paths of restart files, monthly mean output files, processed climatology files and output figures\n",
    "rst_root, mon_root, climo_root, fig_root = e3sm_res_cmp.load_paths_ocn()\n",
    "rst_file = rst_root+'/mpaso.rst.0051-01-01_00000.nc'\n",
    "mon_file = mon_root+'/mpaso.hist.am.timeSeriesStatsMonthly.0041-01-01.nc'"
   ]
  },
  {
   "cell_type": "code",
   "execution_count": null,
   "metadata": {},
   "outputs": [],
   "source": [
    "# load dataset\n",
    "f_rst = Dataset(rst_file, 'r')\n",
    "f_mon = Dataset(mon_file, 'r')"
   ]
  },
  {
   "cell_type": "code",
   "execution_count": null,
   "metadata": {},
   "outputs": [],
   "source": [
    "# read grid information\n",
    "lon = np.degrees(f_rst.variables['lonCell'][:])\n",
    "lat = np.degrees(f_rst.variables['latCell'][:])\n",
    "cellArea = f_rst.variables['areaCell'][:]\n"
   ]
  },
  {
   "cell_type": "markdown",
   "metadata": {},
   "source": [
    "### SST (degC) map"
   ]
  },
  {
   "cell_type": "code",
   "execution_count": null,
   "metadata": {},
   "outputs": [],
   "source": [
    "# read data\n",
    "sst = f_mon.variables['timeMonthly_avg_activeTracers_temperature'][0,:,0]\n",
    "mpaso_sst = MPASOMap(data=sst, lat=lat, lon=lon, cellarea=cellArea, name='SST', units='degC')\n"
   ]
  },
  {
   "cell_type": "code",
   "execution_count": null,
   "metadata": {},
   "outputs": [],
   "source": [
    "# plot figure\n",
    "levels = np.linspace(-2, 26, 29)\n",
    "fig, axarr = plt.subplots(2)\n",
    "fig.set_size_inches(6, 12)\n",
    "mpaso_sst.plot(region='LabSea', axis=axarr[0], levels=levels, ptype='contourf')\n",
    "mpaso_sst.plot(region='LabSea', axis=axarr[1], levels=levels, label='SST')"
   ]
  },
  {
   "cell_type": "code",
   "execution_count": null,
   "metadata": {},
   "outputs": [],
   "source": [
    "## Mixed Layer Depth (m) map"
   ]
  },
  {
   "cell_type": "code",
   "execution_count": null,
   "metadata": {},
   "outputs": [],
   "source": [
    "# read data\n",
    "mld_d = f_mon.variables['timeMonthly_avg_dThreshMLD'][0,:]\n",
    "mpaso_mld_d = MPASOMap(data=mld_d, lat=lat, lon=lon, cellarea=cellArea, name='MLD_rho', units='m')"
   ]
  },
  {
   "cell_type": "code",
   "execution_count": null,
   "metadata": {},
   "outputs": [],
   "source": [
    "# plot figure\n",
    "f, axarr = plt.subplots(2)\n",
    "f.set_size_inches(6, 12)\n",
    "\n",
    "levels = np.array([0, 10, 20, 30, 40, 50, 60, 70, 80, 90, 110, 130, 150, 180, 210, 240, 280, 320, 360, 407, 454, 500, 1000, 1500, 2000])\n",
    "im0 = mpaso_mld_d.plot(region='LabSea', axis=axarr[0], levels=levels, ptype='contourf')\n",
    "im1 = mpaso_mld_d.plot(region='LabSea', axis=axarr[1], levels=levels)"
   ]
  },
  {
   "cell_type": "code",
   "execution_count": null,
   "metadata": {},
   "outputs": [],
   "source": []
  }
 ],
 "metadata": {
  "kernelspec": {
   "display_name": "Python 3",
   "language": "python",
   "name": "python3"
  },
  "language_info": {
   "codemirror_mode": {
    "name": "ipython",
    "version": 3
   },
   "file_extension": ".py",
   "mimetype": "text/x-python",
   "name": "python",
   "nbconvert_exporter": "python",
   "pygments_lexer": "ipython3",
   "version": "3.7.2"
  }
 },
 "nbformat": 4,
 "nbformat_minor": 2
}
