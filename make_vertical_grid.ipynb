{
 "cells": [
  {
   "cell_type": "code",
   "execution_count": 1,
   "metadata": {},
   "outputs": [],
   "source": [
    "%matplotlib inline\n",
    "%config IPCompleter.greedy=True\n",
    "import numpy as np\n",
    "import matplotlib.pyplot as plt"
   ]
  },
  {
   "cell_type": "code",
   "execution_count": 2,
   "metadata": {},
   "outputs": [],
   "source": [
    "def stretch_factor(z_fac1, z_fac2):\n",
    "    z_fac = 1.10\n",
    "    tol = 1.0e-10\n",
    "    test = 10.00\n",
    "    knt = 0 \n",
    "    while test > tol:\n",
    "        knt = knt + 1 \n",
    "        z_facn = (z_fac1*(z_fac - 1.0) + 1.0)**z_fac2\n",
    "        test = abs(1.0 - z_facn / z_fac)\n",
    "        if knt > 500:\n",
    "            print('cannot find stretching factor')\n",
    "            print('z_fac = {:12.10f}, z_facn = {:12.10f}, knt = {:d}'.format(z_fac, z_facn, knt))\n",
    "        z_fac = z_facn\n",
    "    return z_fac\n",
    "\n",
    "def construct_stretched_z(depth, dz, nzt, nzb):\n",
    "    # construct a stretched stretched grid\n",
    "\n",
    "    z_cntr = depth\n",
    "    z_frst = -dz \n",
    "    z_fac1 = z_cntr / z_frst\n",
    "    z_fac2 = 1.0 / nzt\n",
    "    z_fac = stretch_factor(z_fac1, z_fac2)\n",
    "\n",
    "    zedgeOUT = np.zeros(nzt+2)\n",
    "    zmidOUT = np.zeros(nzt+2)\n",
    "    zedgeOUT[nzt+1] = dz\n",
    "    zedgeOUT[nzt] = 0.0\n",
    "    zedgeOUT[nzt-1] = -dz \n",
    "    iz = 2 \n",
    "    for il in np.arange(nzt-2,nzb-1,-1):\n",
    "        zedgeOUT[il] = zedgeOUT[nzt-1]*(z_fac**iz - 1.0) / (z_fac - 1.0)\n",
    "        iz = iz + 1 \n",
    "    zedgeOUT[nzb] = z_cntr\n",
    "\n",
    "    zmidOUT[nzb+1:nzt+2] = 0.5*(zedgeOUT[nzb+1:nzt+2] + zedgeOUT[nzb:nzt+1])\n",
    "    return zmidOUT, zedgeOUT\n",
    "\n",
    "def construct_stretched_z_mld(depth, dz, nzt, nzb, mld):\n",
    "    nzTop = int((nzt-nzb)*2/3)\n",
    "    nz1 = int(nzTop/2)\n",
    "    nz2 = nzTop - nz1 - 1\n",
    "    z_ht = -mld\n",
    "\n",
    "    z_fac1 = -z_ht / 2.0 / dz\n",
    "    z_fac2 = 1.0 / nz1\n",
    "    z_fac = stretch_factor(z_fac1, z_fac2)\n",
    "    z_facbl = z_fac\n",
    "    \n",
    "    nzb1 = nzt - nzb - nzTop + 1\n",
    "    z_fac2 = 1.0 / nzb1\n",
    "    z_fac1 = -(z_ht - depth) / -dz\n",
    "    z_fac = stretch_factor(z_fac1, z_fac2)\n",
    "\n",
    "    zeINV = np.zeros(nzt+2)\n",
    "    zeINV[nzb] = 0.0\n",
    "    zeINV[nzb+1] = -dz\n",
    "    for il in np.arange(nzb+2,nzb+nz1+1):\n",
    "        zeINV[il] = zeINV[nzb+1]*(z_facbl**il - 1.0) / (z_facbl - 1.0)\n",
    "\n",
    "    dzArray = np.zeros(nzt+2)\n",
    "    dzArray[nzb] = -dz\n",
    "    for il in np.arange(nzb+1,nz1+1):\n",
    "        dzArray[il] = zeINV[il-1] - zeINV[il]\n",
    "\n",
    "    zeINV[nzTop-1] = z_ht\n",
    "\n",
    "    k = nzTop-2\n",
    "    for il in np.arange(nzb+1,nz2+1):\n",
    "        zeINV[k] = zeINV[k+1] + dzArray[il]\n",
    "        k = k-1\n",
    "\n",
    "    k=2\n",
    "    zeINV[nzTop] = zeINV[nzTop-1] - dz\n",
    "    for il in np.arange(nzTop+1,nzt+1):\n",
    "        zeINV[il] = zeINV[nzb+1]*(z_fac**k-1.0) / (z_fac - 1) + zeINV[nzTop]\n",
    "        k = k+1\n",
    "\n",
    "    zedgeOUT = np.zeros(nzt+2)\n",
    "    zmidOUT = np.zeros(nzt+2)\n",
    "    k = nzt\n",
    "    for il in np.arange(nzb,nzt+1):\n",
    "        zedgeOUT[k] = zeINV[il]\n",
    "        k = k - 1\n",
    "\n",
    "    zedgeOUT[nzt+1] = dz\n",
    "\n",
    "    zedgeOUT[nzb] = depth\n",
    "\n",
    "    zmidOUT[nzb+1:nzt+2] = 0.5*(zedgeOUT[nzb+1:nzt+2] + zedgeOUT[nzb:nzt+1])\n",
    "    return zmidOUT, zedgeOUT"
   ]
  },
  {
   "cell_type": "code",
   "execution_count": 3,
   "metadata": {},
   "outputs": [],
   "source": [
    "zu, zw = construct_stretched_z(-250, 1, 32, 0)"
   ]
  },
  {
   "cell_type": "code",
   "execution_count": 4,
   "metadata": {},
   "outputs": [
    {
     "data": {
      "text/plain": [
       "[<matplotlib.lines.Line2D at 0x113e56cc0>]"
      ]
     },
     "execution_count": 4,
     "metadata": {},
     "output_type": "execute_result"
    },
    {
     "data": {
      "image/png": "[encoded data removed]",
      "text/plain": [
       "<Figure size 1080x216 with 1 Axes>"
      ]
     },
     "metadata": {
      "needs_background": "light"
     },
     "output_type": "display_data"
    }
   ],
   "source": [
    "fig = plt.figure(figsize=[15,3])\n",
    "plt.plot(zw, np.zeros(zw.size), '-k+')\n",
    "plt.plot(zu, np.zeros(zu.size), 'rx')"
   ]
  },
  {
   "cell_type": "code",
   "execution_count": 5,
   "metadata": {},
   "outputs": [],
   "source": [
    "zu2, zw2 = construct_stretched_z_mld(-250, 1, 32, 0, 100)"
   ]
  },
  {
   "cell_type": "code",
   "execution_count": 6,
   "metadata": {},
   "outputs": [
    {
     "data": {
      "text/plain": [
       "[<matplotlib.lines.Line2D at 0x116ac0940>]"
      ]
     },
     "execution_count": 6,
     "metadata": {},
     "output_type": "execute_result"
    },
    {
     "data": {
      "image/png": "[encoded data removed]",
      "text/plain": [
       "<Figure size 1080x216 with 1 Axes>"
      ]
     },
     "metadata": {
      "needs_background": "light"
     },
     "output_type": "display_data"
    }
   ],
   "source": [
    "fig = plt.figure(figsize=[15,3])\n",
    "plt.plot(zw2, np.zeros(zw2.size), '-k+')\n",
    "plt.plot(zu2, np.zeros(zu2.size), 'rx')\n",
    "# plt.xlim([-80, 30])"
   ]
  },
  {
   "cell_type": "code",
   "execution_count": null,
   "metadata": {},
   "outputs": [],
   "source": []
  }
 ],
 "metadata": {
  "kernelspec": {
   "display_name": "Python 3",
   "language": "python",
   "name": "python3"
  },
  "language_info": {
   "codemirror_mode": {
    "name": "ipython",
    "version": 3
   },
   "file_extension": ".py",
   "mimetype": "text/x-python",
   "name": "python",
   "nbconvert_exporter": "python",
   "pygments_lexer": "ipython3",
   "version": "3.7.1"
  }
 },
 "nbformat": 4,
 "nbformat_minor": 2
}
