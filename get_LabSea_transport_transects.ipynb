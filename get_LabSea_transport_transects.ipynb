{
 "cells": [
  {
   "cell_type": "code",
   "execution_count": 2,
   "metadata": {
    "lines_to_next_cell": 1
   },
   "outputs": [],
   "source": [
    "from mpasanalysis import *\n",
    "from e3sm_simulations import *"
   ]
  },
  {
   "cell_type": "code",
   "execution_count": null,
   "metadata": {
    "lines_to_next_cell": 1
   },
   "outputs": [
    {
     "name": "stdout",
     "output_type": "stream",
     "text": [
      "Pre-defined transect 'Nares Strait'.\n",
      "Vertex closest to P0: 284.12319 77.95565\n",
      "Vertex closest to P1: 287.59652 77.91273\n",
      " - Vertex closest to RefP1: 285.35058 77.85600\n",
      " - Vertex closest to RefP2: 286.38835 78.02253\n",
      "0021\n",
      "0022\n",
      "0023\n",
      "0024\n",
      "0025\n",
      "0026\n",
      "0027\n",
      "0028\n",
      "0029\n",
      "0030\n",
      "0031\n"
     ]
    }
   ],
   "source": [
    "# get paths of restart files, monthly mean output files, processed climatology files and output figures\n",
    "ts_yr0 = 21\n",
    "ts_yr1 = 50\n",
    "plt_yr0 = 21\n",
    "plt_yr1 = 50\n",
    "rest_yr = 51\n",
    "nmon = 12 # 12 for production and 1 for testing\n",
    "run = E3SMSimulation(database='e3sm_simulations.xml', runname='gl-mesh-gm1800')\n",
    "data_root = run.get_path(comp='ocn', climo_yr0=ts_yr0, climo_yr1=ts_yr1,\n",
    "                         ts_yr0=ts_yr0, ts_yr1=ts_yr1, rest_yr=rest_yr)\n",
    "rst_root = data_root['rst_root']\n",
    "mon_root = data_root['mon_root']\n",
    "fig_root = data_root['fig_root']\n",
    "rst_file = rst_root+'/mpaso.rst.{:04d}-01-01_00000.nc'.format(rest_yr)\n",
    "\n",
    "# load mesh\n",
    "mpasmesh = MPASMesh(filepath=rst_file)\n",
    "\n",
    "# transects\n",
    "transect_list = ['Nares Strait',\n",
    "                 'Parry Channel',\n",
    "                 'Jones Sound']\n",
    "\n",
    "# transect\n",
    "for transect_name in transect_list:\n",
    "    trnsct = VerticalTransect(transect_name)\n",
    "    path0 = mpasmesh.get_shortest_path(trnsct.lon0, trnsct.lat0, trnsct.lon1, trnsct.lat1, npoint_ref=2)\n",
    "\n",
    "    nv = len(path0.idx_vertex)\n",
    "    transport = np.zeros([plt_yr1-plt_yr0+1, nmon, nv])\n",
    "    for i, y in enumerate(np.arange(plt_yr1-plt_yr0+1)+plt_yr0):\n",
    "        print('{:04d}'.format(y))\n",
    "        for j, m in enumerate(np.arange(nmon)+1):\n",
    "#             print('{:04d}-{:02d}'.format(y, m))\n",
    "            mon_file = mon_root+'/mpaso.hist.am.timeSeriesStatsMonthly.{:04d}-{:02d}-01.nc'.format(y, m)\n",
    "#             print(mon_file)\n",
    "            mpasdata = MPASOData(filepath=mon_file, filepath_mesh=rst_file)\n",
    "            transport0, dist0 = mpasdata.get_transport_cumulative(path=path0, varname_prefix='timeMonthly_avg_',\n",
    "                                                                  bolus=True)\n",
    "            transport[i,j,:] = transport0[0]\n",
    "    # dist = dist0\n",
    "    dist = gc_distance(np.array(path0.lon_vertex), np.array(path0.lat_vertex), trnsct.lon0, trnsct.lat0)\n",
    "\n",
    "    # save data\n",
    "    path_transport = fig_root+'/data_transport_LabSea_'+transect_name.replace(\" \", \"-\")+'_volume.npz'\n",
    "    np.savez(path_transport, transport=transport, distance=dist)\n",
    "    "
   ]
  },
  {
   "cell_type": "code",
   "execution_count": null,
   "metadata": {},
   "outputs": [],
   "source": []
  }
 ],
 "metadata": {
  "jupytext": {
   "cell_metadata_filter": "-all",
   "main_language": "python",
   "notebook_metadata_filter": "-all"
  },
  "kernelspec": {
   "display_name": "Python 3",
   "language": "python",
   "name": "python3"
  },
  "language_info": {
   "codemirror_mode": {
    "name": "ipython",
    "version": 3
   },
   "file_extension": ".py",
   "mimetype": "text/x-python",
   "name": "python",
   "nbconvert_exporter": "python",
   "pygments_lexer": "ipython3",
   "version": "3.7.2"
  }
 },
 "nbformat": 4,
 "nbformat_minor": 2
}
