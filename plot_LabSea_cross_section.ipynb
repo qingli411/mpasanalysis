{
 "cells": [
  {
   "cell_type": "code",
   "execution_count": null,
   "metadata": {},
   "outputs": [],
   "source": [
    "from mpasanalysis import *\n",
    "%matplotlib inline"
   ]
  },
  {
   "cell_type": "code",
   "execution_count": null,
   "metadata": {},
   "outputs": [],
   "source": [
    "# flags\n",
    "save_fig = False"
   ]
  },
  {
   "cell_type": "code",
   "execution_count": null,
   "metadata": {},
   "outputs": [],
   "source": [
    "# get hostname\n",
    "hostname = os.uname()[1]\n",
    "print('Running on machine {}'.format(hostname))"
   ]
  },
  {
   "cell_type": "code",
   "execution_count": null,
   "metadata": {},
   "outputs": [],
   "source": [
    "# set paths\n",
    "if 'theta' in hostname:\n",
    "    data_root = '/projects/ClimateEnergy_3/azamatm/E3SM_simulations/theta.20180906.branch_noCNT.A_WCYCL1950S_CMIP6_HR.ne120_oRRS18v3_ICG'\n",
    "    fig_root = '/home/qingli/work/e3sm_res_cmp/figures/high_res'\n",
    "    rst_file = data_root+'/run/mpaso.rst.0051-01-01_00000.nc'\n",
    "    mon_file = data_root+'/run/mpaso.hist.am.timeSeriesStatsMonthly.0051-01-01.nc'\n",
    "elif 'edison' in hostname:\n",
    "    data_root = '/global/cscratch1/sd/tang30/ACME_simulations/edison.20181204.noCNT.A_WCYCL1950S_CMIP6_LRtunedHR.ne30_oECv3_ICG'\n",
    "    fig_root = '/global/homes/q/qingli/work/e3sm_res_cmp/figures/low_res'\n",
    "    rst_file = data_root+'/run/mpaso.rst.0051-01-01_00000.nc'\n",
    "    mon_file = data_root+'/archive/ocn/hist/mpaso.hist.am.timeSeriesStatsMonthly.0041-01-01.nc'\n",
    "elif 'pn1803144' in hostname:\n",
    "    # for testing\n",
    "    data_root = os.environ['HOME']+'/data/mpas/test'\n",
    "    fig_root = os.environ['HOME']+'/work/e3sm_res_cmp/figures/low_res'\n",
    "    rst_file = data_root+'/mpaso.rst.0051-01-01_00000.nc'\n",
    "    mon_file = data_root+'/mpaso.hist.am.timeSeriesStatsMonthly.0041-01-01.nc'\n",
    "else:\n",
    "    raise EnvironmentError('This script should be executed on edison, theta or pn1803144')\n",
    "os.makedirs(fig_root, exist_ok=True)"
   ]
  },
  {
   "cell_type": "code",
   "execution_count": null,
   "metadata": {},
   "outputs": [],
   "source": [
    "# load dataset\n",
    "f_rst = Dataset(rst_file, 'r')\n",
    "f_mon = Dataset(mon_file, 'r')"
   ]
  },
  {
   "cell_type": "code",
   "execution_count": null,
   "metadata": {},
   "outputs": [],
   "source": [
    "# read grid information\n",
    "lon = np.degrees(f_rst.variables['lonCell'][:])\n",
    "lat = np.degrees(f_rst.variables['latCell'][:])\n",
    "cellArea = f_rst.variables['areaCell'][:]\n",
    "\n",
    "refBottomDepth = f_rst.variables['refBottomDepth'][:]\n",
    "nVertLevels = len(refBottomDepth)\n",
    "refTopDepth = np.zeros(nVertLevels)\n",
    "refTopDepth[1:nVertLevels] = refBottomDepth[0:nVertLevels-1]\n",
    "refLayerThickness = refTopDepth-refBottomDepth\n",
    "refMidDepth = 0.5*(refTopDepth+refBottomDepth)"
   ]
  },
  {
   "cell_type": "code",
   "execution_count": null,
   "metadata": {},
   "outputs": [],
   "source": [
    "ncvar_temp = f_mon.variables['timeMonthly_avg_activeTracers_temperature']\n",
    "temp = ncvar_temp[0,:,:]\n",
    "print(temp.shape)"
   ]
  },
  {
   "cell_type": "code",
   "execution_count": null,
   "metadata": {},
   "outputs": [],
   "source": [
    "mpaso_temp = MPASOVolume(data=temp, lon=lon, lat=lat, depth=refMidDepth, cellarea=cellArea,\n",
    "                         name='Temperature', units='degC')\n",
    "lon0 = 320\n",
    "lat0 = 40\n",
    "lon1 = 310\n",
    "lat1 = 60\n",
    "p = mpaso_temp.get_vertical_cross_section(lon0=lon0, lat0=lat0, lon1=lon1, lat1=lat1, depth_bottom=1000)"
   ]
  },
  {
   "cell_type": "code",
   "execution_count": null,
   "metadata": {},
   "outputs": [],
   "source": [
    "p.plot(ptype='pcolor')"
   ]
  },
  {
   "cell_type": "code",
   "execution_count": null,
   "metadata": {},
   "outputs": [],
   "source": [
    "mpaso_sst = MPASOMap(data=temp[:,0], lat=lat, lon=lon, cellarea=cellArea, name='SST', units='degC')\n",
    "m = mpaso_sst.plot(region='LabSea')\n",
    "x, y = m(p.lon, p.lat)\n",
    "m.scatter(x, y, color='r',s=10, marker='.')\n",
    "m.drawgreatcircle(lon0, lat0, lon1, lat1, color='y')\n",
    "type(m)"
   ]
  },
  {
   "cell_type": "code",
   "execution_count": null,
   "metadata": {},
   "outputs": [],
   "source": [
    "mpaso_temp.get_map(depth=500).plot(region='LabSea')"
   ]
  },
  {
   "cell_type": "code",
   "execution_count": null,
   "metadata": {},
   "outputs": [],
   "source": []
  }
 ],
 "metadata": {
  "kernelspec": {
   "display_name": "Python 3",
   "language": "python",
   "name": "python3"
  },
  "language_info": {
   "codemirror_mode": {
    "name": "ipython",
    "version": 3
   },
   "file_extension": ".py",
   "mimetype": "text/x-python",
   "name": "python",
   "nbconvert_exporter": "python",
   "pygments_lexer": "ipython3",
   "version": "3.6.5"
  }
 },
 "nbformat": 4,
 "nbformat_minor": 2
}
