{
 "cells": [
  {
   "cell_type": "code",
   "execution_count": 1,
   "metadata": {
    "lines_to_next_cell": 1
   },
   "outputs": [],
   "source": [
    "from mpasanalysis import *\n",
    "import e3sm_res_cmp"
   ]
  },
  {
   "cell_type": "code",
   "execution_count": 12,
   "metadata": {
    "lines_to_next_cell": 1
   },
   "outputs": [],
   "source": [
    "def main():\n",
    "    global fig_dir\n",
    "    global lon, lat, refMidDepth, cellArea, refLayerThickness, bottomDepth\n",
    "\n",
    "    # get paths of restart files, monthly mean output files, processed climatology files and output figures\n",
    "    ts_ys = 1\n",
    "    ts_ye = 20\n",
    "    plt_ys = 1\n",
    "    plt_ye = 20\n",
    "    nmon = 1 # 12 for production and 1 for testing\n",
    "    data_root = e3sm_res_cmp.load_paths_ocn(climo_ys=ts_ys, climo_ye=ts_ye,\n",
    "                                            ts_ys=ts_ys, ts_ye=ts_ye, runname='gl-mesh')\n",
    "    rst_root = data_root['rst_root']\n",
    "    mon_root = data_root['mon_root']\n",
    "    fig_root = data_root['fig_root']\n",
    "    rst_file = rst_root+'/mpaso.rst.{:04d}-01-01_00000.nc'.format(ts_ye+1)\n",
    "\n",
    "    # load dataset\n",
    "    f_rst = Dataset(rst_file, 'r')\n",
    "\n",
    "    # read grid information\n",
    "    lon = np.degrees(f_rst.variables['lonCell'][:])\n",
    "    lat = np.degrees(f_rst.variables['latCell'][:])\n",
    "    cellArea = f_rst.variables['areaCell'][:]\n",
    "    bottomDepth = f_rst.variables['bottomDepth'][:]\n",
    "\n",
    "    refBottomDepth = f_rst.variables['refBottomDepth'][:]\n",
    "    nVertLevels = len(refBottomDepth)\n",
    "    refTopDepth = np.zeros(nVertLevels)\n",
    "    refTopDepth[1:nVertLevels] = refBottomDepth[0:nVertLevels-1]\n",
    "    refLayerThickness = refTopDepth-refBottomDepth\n",
    "    refMidDepth = 0.5*(refTopDepth+refBottomDepth)\n",
    "\n",
    "    # Salinity (psu)\n",
    "\n",
    "#     varname = 'salinityAtSurface'\n",
    "#     units = 'psu'\n",
    "#     levels = np.linspace(28, 36, 41)\n",
    "\n",
    "normal_velocity = fdata.variables['normalVelocity'][0,:,0]\n",
    "dcEdge = fmesh.variables['dcEdge'][:]\n",
    "edgesOnVertex = fmesh.variables['edgesOnVertex'][idx]\n",
    "verticesOnEdge = fmesh.variables['verticesOnEdge'][:]\n",
    "areaTriangle = fmesh.variables['areaTriangle'][idx]\n",
    "edgeSignOnVertex = mpasmesh.get_edge_sign_on_vertex(mask=idx)\n",
    "# edgeSignOnVertex = edgeSignOnVertex[idx]\n",
    "nvertex = edgesOnVertex.shape[0]\n",
    "nedges = dcEdge.shape[0]\n",
    "vorticity = np.zeros(nvertex)\n",
    "for idx_v in np.arange(nvertex):\n",
    "    idx_ev = edgesOnVertex[idx_v,:]-1\n",
    "    vorticity[idx_v] = np.sum(normal_velocity[idx_ev]*dcEdge[idx_ev]*edgeSignOnVertex[idx_v,:])\n",
    "    vorticity[idx_v] = vorticity[idx_v]/areaTriangle[idx_v]\n",
    "    # KE (psu)\n",
    "\n",
    "    varname = 'kineticEnergyAtSurface'\n",
    "    units = 'm^2/s^2'\n",
    "    levels = np.linspace(0.5, 1.5, 41)\n",
    "#     levels = None\n",
    "\n",
    "    fig_dir = fig_root+'/Animation/highfreq/'+varname\n",
    "    os.makedirs(fig_dir, exist_ok=True)\n",
    "    # for y in np.arange(plt_ye-plt_ys+1)+1:\n",
    "    #     for m in np.arange(nmon):\n",
    "    for y in [20]:\n",
    "        for m in [12]:\n",
    "            print('{:04d}-{:02d}'.format(y, m))\n",
    "            mon_file = mon_root+'/mpaso.hist.am.highFrequencyOutput.{:04d}-{:02d}-01_00.00.00.nc'.format(y, m)\n",
    "            print(mon_file)\n",
    "            f_mon = Dataset(mon_file, 'r')\n",
    "            plot_labsea_highfreq(f_mon, varname, units, levels, y, m)\n",
    "            f_mon.close()"
   ]
  },
  {
   "cell_type": "code",
   "execution_count": 13,
   "metadata": {
    "lines_to_next_cell": 1
   },
   "outputs": [],
   "source": [
    "def plot_labsea_highfreq(f_in, vname, units, levels, iyear, imon):\n",
    "    \"\"\"Plot map.\n",
    "\n",
    "    :f_in: (netcdf4 Dataset) input file\n",
    "    :vname: (str) variable name\n",
    "    :units: (str) variable units\n",
    "    :levels: (list) levels for contours\n",
    "    :iyear: (int) year index\n",
    "    :imon: (int) month index\n",
    "    :returns: TODO\n",
    "\n",
    "    \"\"\"\n",
    "    global fig_dir\n",
    "    global lon, lat, refMidDepth, cellArea, refLayerThickness, bottomDepth\n",
    "\n",
    "    # year and month\n",
    "    yyyy = '{:04d}'.format(iyear)\n",
    "    mm = '{:02d}'.format(imon)\n",
    "\n",
    "    # read monthly mean ocean data\n",
    "    data_in = f_in.variables[vname][:]\n",
    "    nt = data_in.shape[0]\n",
    "    for i in np.arange(nt):\n",
    "        ii = '{:02d}'.format(i)\n",
    "        data = data_in[i,:]\n",
    "        mpaso_obj = MPASOMap(data=data, lat=lat, lon=lon, cellarea=cellArea,\n",
    "                            name=vname, units=units)\n",
    "        \n",
    "        # plot figure: map\n",
    "        fig = plt.figure(figsize=[6, 5.5])\n",
    "        m,tmp = mpaso_obj.plot(region='LabSea', levels=levels, ptype='contourf')\n",
    "        axis = plt.gca()\n",
    "        axis.text(0.06, 0.62, yyyy+'-'+mm, transform=axis.transAxes,\n",
    "                     fontsize=12, color='k', va='top',\n",
    "                     bbox=dict(boxstyle='square',ec='k',fc='w'))\n",
    "        figname = fig_dir+'/LabSea_climo_Map_'+yyyy+'-'+mm+'-'+ii+'.png'\n",
    "        fig.savefig(figname, dpi = 300)\n",
    "        plt.close(fig)\n"
   ]
  },
  {
   "cell_type": "code",
   "execution_count": 14,
   "metadata": {},
   "outputs": [
    {
     "name": "stdout",
     "output_type": "stream",
     "text": [
      "Running on machine pn1803144.lanl.gov\n",
      "0020-12\n",
      "/Users/qingli/data/mpas/test/gl-mesh/mpaso.hist.am.highFrequencyOutput.0020-12-01_00.00.00.nc\n",
      "Plotting map of kineticEnergyAtSurface (m^2/s^2) at region 'LabSea'\n",
      "Plotting map of kineticEnergyAtSurface (m^2/s^2) at region 'LabSea'\n",
      "Plotting map of kineticEnergyAtSurface (m^2/s^2) at region 'LabSea'\n",
      "Plotting map of kineticEnergyAtSurface (m^2/s^2) at region 'LabSea'\n",
      "Plotting map of kineticEnergyAtSurface (m^2/s^2) at region 'LabSea'\n",
      "Plotting map of kineticEnergyAtSurface (m^2/s^2) at region 'LabSea'\n"
     ]
    }
   ],
   "source": [
    "if __name__ == \"__main__\":\n",
    "    main()"
   ]
  },
  {
   "cell_type": "code",
   "execution_count": null,
   "metadata": {},
   "outputs": [],
   "source": []
  },
  {
   "cell_type": "code",
   "execution_count": null,
   "metadata": {},
   "outputs": [],
   "source": []
  }
 ],
 "metadata": {
  "jupytext": {
   "cell_metadata_filter": "-all",
   "main_language": "python",
   "notebook_metadata_filter": "-all"
  },
  "kernelspec": {
   "display_name": "Python 3",
   "language": "python",
   "name": "python3"
  },
  "language_info": {
   "codemirror_mode": {
    "name": "ipython",
    "version": 3
   },
   "file_extension": ".py",
   "mimetype": "text/x-python",
   "name": "python",
   "nbconvert_exporter": "python",
   "pygments_lexer": "ipython3",
   "version": "3.7.1"
  }
 },
 "nbformat": 4,
 "nbformat_minor": 2
}
