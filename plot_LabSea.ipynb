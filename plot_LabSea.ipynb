{
 "cells": [
  {
   "cell_type": "code",
   "execution_count": null,
   "metadata": {},
   "outputs": [],
   "source": [
    "from mpasanalysis import *\n",
    "%matplotlib inline"
   ]
  },
  {
   "cell_type": "code",
   "execution_count": null,
   "metadata": {},
   "outputs": [],
   "source": [
    "# flags\n",
    "save_fig = False"
   ]
  },
  {
   "cell_type": "code",
   "execution_count": null,
   "metadata": {},
   "outputs": [],
   "source": [
    "# get hostname\n",
    "hostname = os.getenv('HOSTNAME')\n",
    "print('Running on machine {}'.format(hostname))"
   ]
  },
  {
   "cell_type": "code",
   "execution_count": null,
   "metadata": {},
   "outputs": [],
   "source": [
    "# set paths\n",
    "if 'theta' in hostname:\n",
    "    data_root = '/projects/ClimateEnergy_3/azamatm/E3SM_simulations/theta.20180906.branch_noCNT.A_WCYCL1950S_CMIP6_HR.ne120_oRRS18v3_ICG'\n",
    "    fig_root = '/home/qingli/work/e3sm_res_cmp/figures/high_res'\n",
    "    rst_file = data_root+'/run/mpaso.rst.0051-01-01_00000.nc'\n",
    "    mon_file = data_root+'/run/mpaso.hist.am.timeSeriesStatsMonthly.0051-01-01.nc'\n",
    "elif 'edison' in hostname:\n",
    "    data_root = '/global/cscratch1/sd/tang30/ACME_simulations/edison.20181204.noCNT.A_WCYCL1950S_CMIP6_LRtunedHR.ne30_oECv3_ICG'\n",
    "    fig_root = '/global/homes/q/qingli/work/e3sm_res_cmp/figures/low_res'\n",
    "    rst_file = data_root+'/run/mpaso.rst.0051-01-01_00000.nc'\n",
    "    mon_file = data_root+'/archive/ocn/hist/mpaso.hist.am.timeSeriesStatsMonthly.0041-01-01.nc'\n",
    "else:\n",
    "    raise EnvironmentError('This script should be executed on either edison or theta')\n",
    "os.makedirs(fig_root, exist_ok=True)"
   ]
  },
  {
   "cell_type": "code",
   "execution_count": null,
   "metadata": {},
   "outputs": [],
   "source": [
    "# load dataset\n",
    "f_rst = Dataset(rst_file, 'r')\n",
    "f_mon = Dataset(mon_file, 'r')"
   ]
  },
  {
   "cell_type": "code",
   "execution_count": null,
   "metadata": {},
   "outputs": [],
   "source": [
    "# read grid information\n",
    "lon = f_rst.variables['lonCell'][:]*180.0/np.pi\n",
    "lat = f_rst.variables['latCell'][:]*180.0/np.pi\n",
    "cellArea = f_rst.variables['areaCell'][:]\n"
   ]
  },
  {
   "cell_type": "markdown",
   "metadata": {},
   "source": [
    "### SST (degC)"
   ]
  },
  {
   "cell_type": "code",
   "execution_count": null,
   "metadata": {},
   "outputs": [],
   "source": [
    "# read data\n",
    "sst = f_mon.variables['timeMonthly_avg_activeTracers_temperature'][0,:,0]\n",
    "mpaso_sst = MPASOMap(data=sst, lat=lat, lon=lon, cellarea=cellArea, name='SST', units='degC')\n"
   ]
  },
  {
   "cell_type": "code",
   "execution_count": null,
   "metadata": {},
   "outputs": [],
   "source": [
    "# plot figure\n",
    "fig = plt.figure()\n",
    "fig.set_size_inches(6, 5)\n",
    "mpaso_sst.plot(region='LabSea')\n",
    "\n",
    "if save_fig:\n",
    "    figname = fig_root+'/LabSea_sst.png'\n",
    "    plt.savefig(figname, dpi = 300)"
   ]
  },
  {
   "cell_type": "markdown",
   "metadata": {},
   "source": [
    "### Mixed Layer Depth (m)"
   ]
  },
  {
   "cell_type": "code",
   "execution_count": null,
   "metadata": {},
   "outputs": [],
   "source": [
    "# read data\n",
    "mld_d = f_mon.variables['timeMonthly_avg_dThreshMLD'][0,:]\n",
    "mld_t = f_mon.variables['timeMonthly_avg_tThreshMLD'][0,:]\n",
    "mpaso_mld_d = MPASOMap(data=mld_d, lat=lat, lon=lon, cellarea=cellArea, name='MLD_rho', units='m')\n",
    "mpaso_mld_t = MPASOMap(data=mld_t, lat=lat, lon=lon, cellarea=cellArea, name='MLD_temp', units='m')\n",
    "mpaso_mld_diff = MPASOMap(data=mld_t-mld_d, lat=lat, lon=lon, cellarea=cellArea, name='MLD_temp - MLD_rho', units='m')\n"
   ]
  },
  {
   "cell_type": "code",
   "execution_count": null,
   "metadata": {},
   "outputs": [],
   "source": [
    "# plot figure\n",
    "f, axarr = plt.subplots(3)\n",
    "f.set_size_inches(6, 15)\n",
    "\n",
    "levels = np.array([0, 10, 20, 30, 40, 50, 60, 70, 80, 90, 110, 130, 150, 180, 210, 240, 280, 320, 360, 407, 454, 500, 1000, 1500, 2000])\n",
    "levels_diff = np.linspace(-50, 50, 21)\n",
    "im0 = mpaso_mld_t.plot(region='LabSea', axis=axarr[0], levels=levels)\n",
    "im1 = mpaso_mld_d.plot(region='LabSea', axis=axarr[1], levels=levels)\n",
    "im2 = mpaso_mld_diff.plot(region='LabSea', axis=axarr[2], levels=levels_diff, cmap='RdBu_r')\n",
    "plt.tight_layout()\n",
    "\n",
    "if save_fig:\n",
    "    figname = fig_root+'/LabSea_mld.png'\n",
    "    plt.savefig(figname, dpi = 300)"
   ]
  },
  {
   "cell_type": "markdown",
   "metadata": {},
   "source": [
    "### Surface Heat Flux (W m$^{-2}$)"
   ]
  },
  {
   "cell_type": "code",
   "execution_count": null,
   "metadata": {},
   "outputs": [],
   "source": [
    "# read data\n",
    "shf = f_mon.variables['timeMonthly_avg_sensibleHeatFlux'][0,:]\n",
    "lhf = f_mon.variables['timeMonthly_avg_latentHeatFlux'][0,:]\n",
    "swf = f_mon.variables['timeMonthly_avg_shortWaveHeatFlux'][0,:]\n",
    "lwfu = f_mon.variables['timeMonthly_avg_longWaveHeatFluxUp'][0,:]\n",
    "lwfd = f_mon.variables['timeMonthly_avg_longWaveHeatFluxDown'][0,:]\n",
    "lwf = lwfu+lwfd\n",
    "mpaso_swf = MPASOMap(data=swf, lat=lat, lon=lon, cellarea=cellArea, name='SWF', units=r'W m^{-2}')\n",
    "mpaso_lwf = MPASOMap(data=lwf, lat=lat, lon=lon, cellarea=cellArea, name='LWF', units=r'W m^{-2}')\n",
    "mpaso_shf = MPASOMap(data=shf, lat=lat, lon=lon, cellarea=cellArea, name='SHF', units=r'W m^{-2}')\n",
    "mpaso_lhf = MPASOMap(data=lhf, lat=lat, lon=lon, cellarea=cellArea, name='LHF', units=r'W m^{-2}')\n"
   ]
  },
  {
   "cell_type": "code",
   "execution_count": null,
   "metadata": {},
   "outputs": [],
   "source": [
    "# plot figure\n",
    "f, axarr = plt.subplots(2,2)\n",
    "f.set_size_inches(12, 10)\n",
    "levels = np.linspace(-400, 400, 81)\n",
    "im0 = mpaso_swf.plot(region='LabSea', axis=axarr[0,0], levels=levels, cmap='RdBu_r')\n",
    "im1 = mpaso_lwf.plot(region='LabSea', axis=axarr[0,1], levels=levels, cmap='RdBu_r')\n",
    "im2 = mpaso_shf.plot(region='LabSea', axis=axarr[1,0], levels=levels, cmap='RdBu_r')\n",
    "im3 = mpaso_lhf.plot(region='LabSea', axis=axarr[1,1], levels=levels, cmap='RdBu_r')\n",
    "plt.tight_layout()\n",
    "\n",
    "if save_fig:\n",
    "    figname = fig_root+'/LabSea_heatflux.png'\n",
    "    plt.savefig(figname, dpi = 300)"
   ]
  },
  {
   "cell_type": "code",
   "execution_count": null,
   "metadata": {},
   "outputs": [],
   "source": [
    "mpaso_mld_diff.data.std()"
   ]
  },
  {
   "cell_type": "code",
   "execution_count": null,
   "metadata": {},
   "outputs": [],
   "source": []
  }
 ],
 "metadata": {
  "kernelspec": {
   "display_name": "Python 3",
   "language": "python",
   "name": "python3"
  },
  "language_info": {
   "codemirror_mode": {
    "name": "ipython",
    "version": 3
   },
   "file_extension": ".py",
   "mimetype": "text/x-python",
   "name": "python",
   "nbconvert_exporter": "python",
   "pygments_lexer": "ipython3",
   "version": "3.7.2"
  }
 },
 "nbformat": 4,
 "nbformat_minor": 2
}
