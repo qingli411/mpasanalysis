{
 "cells": [
  {
   "cell_type": "code",
   "execution_count": null,
   "metadata": {},
   "outputs": [],
   "source": [
    "from mpasanalysis import *\n",
    "import e3sm_res_cmp\n",
    "%matplotlib inline"
   ]
  },
  {
   "cell_type": "code",
   "execution_count": null,
   "metadata": {},
   "outputs": [],
   "source": [
    "# get paths of restart files, monthly mean output files, processed climatology files and output figures\n",
    "data_root = e3sm_res_cmp.load_paths_ocn(climo_ys=41, climo_ye=50, ts_ys=1, ts_ye=50)\n",
    "rst_root = data_root['rst_root']\n",
    "climo_root = data_root['climo_root']\n",
    "fig_root = data_root['fig_root']\n",
    "rst_file = rst_root+'/mpaso.rst.0051-01-01_00000.nc'"
   ]
  },
  {
   "cell_type": "code",
   "execution_count": null,
   "metadata": {},
   "outputs": [],
   "source": [
    "# load dataset\n",
    "f_rst = Dataset(rst_file, 'r')"
   ]
  },
  {
   "cell_type": "code",
   "execution_count": null,
   "metadata": {},
   "outputs": [],
   "source": [
    "# read grid information\n",
    "lon = np.degrees(f_rst.variables['lonCell'][:])\n",
    "lat = np.degrees(f_rst.variables['latCell'][:])\n",
    "cellArea = f_rst.variables['areaCell'][:]\n"
   ]
  },
  {
   "cell_type": "markdown",
   "metadata": {},
   "source": [
    "### SST (degC)"
   ]
  },
  {
   "cell_type": "code",
   "execution_count": null,
   "metadata": {},
   "outputs": [],
   "source": [
    "levels = np.linspace(-2, 26, 57)\n",
    "for i in np.arange(12):\n",
    "    climo_file = climo_root+'/temperature/mpaso_{:02d}_climo.nc'.format(i+1)\n",
    "    f_climo = Dataset(climo_file, 'r')\n",
    "    fig = plt.figure(figsize=[6,6])\n",
    "    data = f_climo.variables['timeMonthly_avg_activeTracers_temperature'][0,:,0]\n",
    "    mpaso_obj = MPASOMap(data=data, lat=lat, lon=lon, cellarea=cellArea, name='SST', units='degC')\n",
    "    mpaso_obj.plot(region='LabSea', levels=levels, label=calendar.month_abbr[i+1])\n",
    "    plt.show()\n",
    "    figname = fig_root+'/LabSea_SST_climo_{:02d}.png'.format(i+1)\n",
    "    fig.savefig(figname, dpi = 300)\n",
    "    plt.close(fig)"
   ]
  },
  {
   "cell_type": "markdown",
   "metadata": {},
   "source": [
    "### SSS (psu)"
   ]
  },
  {
   "cell_type": "code",
   "execution_count": null,
   "metadata": {},
   "outputs": [],
   "source": [
    "levels = np.linspace(16, 36, 41)\n",
    "for i in np.arange(12):\n",
    "    climo_file = climo_root+'/salinity/mpaso_{:02d}_climo.nc'.format(i+1)\n",
    "    f_climo = Dataset(climo_file, 'r')\n",
    "    fig = plt.figure(figsize=[6,6])\n",
    "    data = f_climo.variables['timeMonthly_avg_activeTracers_salinity'][0,:,0]\n",
    "    mpaso_obj = MPASOMap(data=data, lat=lat, lon=lon, cellarea=cellArea, name='SSS', units='psu')\n",
    "    mpaso_obj.plot(region='LabSea', levels=levels, label=calendar.month_abbr[i+1])\n",
    "    plt.show()\n",
    "    figname = fig_root+'/LabSea_SSS_climo_{:02d}.png'.format(i+1)\n",
    "    fig.savefig(figname, dpi = 300)\n",
    "    plt.close(fig)"
   ]
  },
  {
   "cell_type": "markdown",
   "metadata": {},
   "source": [
    "### Sea Surface Potential Density (kg m^{-2}"
   ]
  },
  {
   "cell_type": "code",
   "execution_count": null,
   "metadata": {},
   "outputs": [],
   "source": [
    "levels = np.linspace(1012, 1028, 33)\n",
    "for i in np.arange(12):\n",
    "    climo_file = climo_root+'/potentialDensity/mpaso_{:02d}_climo.nc'.format(i+1)\n",
    "    f_climo = Dataset(climo_file, 'r')\n",
    "    fig = plt.figure(figsize=[6,6])\n",
    "    data = f_climo.variables['timeMonthly_avg_potentialDensity'][0,:,0]\n",
    "    mpaso_obj = MPASOMap(data=data, lat=lat, lon=lon, cellarea=cellArea,\n",
    "                         name='Potential Density', units='kg m^{-3}')\n",
    "    mpaso_obj.plot(region='LabSea', levels=levels, label=calendar.month_abbr[i+1])\n",
    "    plt.show()\n",
    "    figname = fig_root+'/LabSea_potentialDensity_climo_{:02d}.png'.format(i+1)\n",
    "    fig.savefig(figname, dpi = 300)\n",
    "    plt.close(fig)"
   ]
  },
  {
   "cell_type": "markdown",
   "metadata": {},
   "source": [
    "### Sea Surface Current (m s^{-1})"
   ]
  },
  {
   "cell_type": "code",
   "execution_count": null,
   "metadata": {},
   "outputs": [],
   "source": [
    "levels = np.linspace(-0.4, 0.4, 21)\n",
    "for i in np.arange(12):\n",
    "    climo_file = climo_root+'/velocity/mpaso_{:02d}_climo.nc'.format(i+1)\n",
    "    f_climo = Dataset(climo_file, 'r')\n",
    "    # zonal\n",
    "    fig = plt.figure(figsize=[6,6])\n",
    "    data = f_climo.variables['timeMonthly_avg_velocityZonal'][0,:,0]\n",
    "    mpaso_obj = MPASOMap(data=data, lat=lat, lon=lon, cellarea=cellArea,\n",
    "                         name='Zonal Surface Current', units='m s^{-1}')\n",
    "    mpaso_obj.plot(region='LabSea', levels=levels, label=calendar.month_abbr[i+1], cmap='RdBu_r')\n",
    "    plt.show()\n",
    "    figname = fig_root+'/LabSea_velocityZonal_climo_{:02d}.png'.format(i+1)\n",
    "    fig.savefig(figname, dpi = 300)\n",
    "    plt.close(fig)\n",
    "    # meridional\n",
    "    fig = plt.figure(figsize=[6,6])\n",
    "    data = f_climo.variables['timeMonthly_avg_velocityMeridional'][0,:,0]\n",
    "    mpaso_obj = MPASOMap(data=data, lat=lat, lon=lon, cellarea=cellArea,\n",
    "                         name='Meridional Surface Current', units='m s^{-1}')\n",
    "    mpaso_obj.plot(region='LabSea', levels=levels, label=calendar.month_abbr[i+1], cmap='RdBu_r')\n",
    "    plt.show()\n",
    "    figname = fig_root+'/LabSea_velocityMeridional_climo_{:02d}.png'.format(i+1)\n",
    "    fig.savefig(figname, dpi = 300)\n",
    "    plt.close(fig)"
   ]
  },
  {
   "cell_type": "markdown",
   "metadata": {},
   "source": [
    "### Mixed Layer Depth (m)"
   ]
  },
  {
   "cell_type": "code",
   "execution_count": null,
   "metadata": {},
   "outputs": [],
   "source": [
    "levels = np.array([0, 10, 20, 30, 40, 50, 60, 70, 80, 90,\n",
    "                   110, 130, 150, 180, 210, 240, 280, 320, 360,\n",
    "                   407, 454, 500, 1000, 1500, 2000])\n",
    "levels_diff = np.linspace(-50, 50, 21)\n",
    "for i in np.arange(12):\n",
    "    # read data\n",
    "    climo_file = climo_root+'/mixedLayerDepth/mpaso_{:02d}_climo.nc'.format(i+1)\n",
    "    f_climo = Dataset(climo_file, 'r')\n",
    "    # mld_d\n",
    "    fig = plt.figure(figsize=[6,6])\n",
    "    mld_d = f_climo.variables['timeMonthly_avg_dThreshMLD'][0,:]\n",
    "    mpaso_mld_d = MPASOMap(data=mld_d, lat=lat, lon=lon, cellarea=cellArea,\n",
    "                           name='MLD (density threshold)', units='m')\n",
    "    mpaso_mld_d.plot(region='LabSea', levels=levels, label=calendar.month_abbr[i+1])\n",
    "    plt.show()\n",
    "    figname = fig_root+'/LabSea_dThreshMLD_climo_{:02d}.png'.format(i+1)\n",
    "    fig.savefig(figname, dpi = 300)\n",
    "    plt.close(fig)\n",
    "    # mld_t\n",
    "    fig = plt.figure(figsize=[6,6])\n",
    "    mld_t = f_climo.variables['timeMonthly_avg_tThreshMLD'][0,:]\n",
    "    mpaso_mld_t = MPASOMap(data=mld_t, lat=lat, lon=lon, cellarea=cellArea,\n",
    "                         name='MLD (temperature threshold)', units='m')\n",
    "    mpaso_mld_t.plot(region='LabSea', levels=levels, label=calendar.month_abbr[i+1])\n",
    "    plt.show()\n",
    "    figname = fig_root+'/LabSea_tThreshMLD_climo_{:02d}.png'.format(i+1)\n",
    "    fig.savefig(figname, dpi = 300)\n",
    "    plt.close(fig)\n",
    "    # diff_mld\n",
    "    fig = plt.figure(figsize=[6,6])\n",
    "    mpaso_diff = MPASOMap(data=mld_t-mld_d, lat=lat, lon=lon, cellarea=cellArea,\n",
    "                         name='MLD (temperature) - MLD (density)', units='m')\n",
    "    mpaso_diff.plot(region='LabSea', levels=levels_diff, label=calendar.month_abbr[i+1], cmap='RdBu_r')\n",
    "    plt.show()\n",
    "    figname = fig_root+'/LabSea_tThreshMLD-dThreshMLD_climo_{:02d}.png'.format(i+1)\n",
    "    fig.savefig(figname, dpi = 300)\n",
    "    plt.close(fig)"
   ]
  },
  {
   "cell_type": "markdown",
   "metadata": {},
   "source": [
    "### Surface Heat Flux (W m$^{-2}$)"
   ]
  },
  {
   "cell_type": "code",
   "execution_count": null,
   "metadata": {},
   "outputs": [],
   "source": [
    "levels = np.linspace(-400, 400, 81)\n",
    "for i in np.arange(12):\n",
    "    # read file\n",
    "    climo_file = climo_root+'/heatFlux/mpaso_{:02d}_climo.nc'.format(i+1)\n",
    "    f_climo = Dataset(climo_file, 'r')\n",
    "    # shf\n",
    "    fig = plt.figure(figsize=[6,6])\n",
    "    shf = f_climo.variables['timeMonthly_avg_sensibleHeatFlux'][0,:]\n",
    "    mpaso_shf = MPASOMap(data=shf, lat=lat, lon=lon, cellarea=cellArea, name='SHF', units=r'W m^{-2}')\n",
    "    mpaso_shf.plot(region='LabSea', levels=levels, label=calendar.month_abbr[i+1], cmap='RdBu_r')\n",
    "    plt.show()\n",
    "    figname = fig_root+'/LabSea_sensibleHeatFlux_climo_{:02d}.png'.format(i+1)\n",
    "    fig.savefig(figname, dpi = 300)\n",
    "    plt.close(fig)\n",
    "    # lhf\n",
    "    fig = plt.figure(figsize=[6,6])\n",
    "    lhf = f_climo.variables['timeMonthly_avg_latentHeatFlux'][0,:]\n",
    "    mpaso_lhf = MPASOMap(data=data, lat=lat, lon=lon, cellarea=cellArea, name='LHF', units=r'W m^{-2}')\n",
    "    mpaso_lhf.plot(region='LabSea', levels=levels, label=calendar.month_abbr[i+1], cmap='RdBu_r')\n",
    "    plt.show()\n",
    "    figname = fig_root+'/LabSea_latentHeatFlux_climo_{:02d}.png'.format(i+1)\n",
    "    fig.savefig(figname, dpi = 300)\n",
    "    plt.close(fig)\n",
    "    # swf\n",
    "    fig = plt.figure(figsize=[6,6])\n",
    "    swf = f_climo.variables['timeMonthly_avg_shortWaveHeatFlux'][0,:]\n",
    "    mpaso_shf = MPASOMap(data=data, lat=lat, lon=lon, cellarea=cellArea, name='SWF', units=r'W m^{-2}')\n",
    "    mpaso_shf.plot(region='LabSea', levels=levels, label=calendar.month_abbr[i+1], cmap='RdBu_r')\n",
    "    plt.show()\n",
    "    figname = fig_root+'/LabSea_shortWaveHeatFlux_climo_{:02d}.png'.format(i+1)\n",
    "    fig.savefig(figname, dpi = 300)\n",
    "    plt.close(fig)\n",
    "    # lwf\n",
    "    fig = plt.figure(figsize=[6,6])\n",
    "    lwfu = f_climo.variables['timeMonthly_avg_longWaveHeatFluxUp'][0,:]\n",
    "    lwfd = f_climo.variables['timeMonthly_avg_longWaveHeatFluxDown'][0,:]\n",
    "    lwf = lwfu+lwfd\n",
    "    mpaso_lwf = MPASOMap(data=lwf, lat=lat, lon=lon, cellarea=cellArea, name='LWF', units=r'W m^{-2}')\n",
    "    mpaso_lwf.plot(region='LabSea', levels=levels, label=calendar.month_abbr[i+1], cmap='RdBu_r')\n",
    "    plt.show()\n",
    "    figname = fig_root+'/LabSea_longWaveHeatFlux_climo_{:02d}.png'.format(i+1)\n",
    "    fig.savefig(figname, dpi = 300)\n",
    "    plt.close(fig)\n",
    "    # total\n",
    "    fig = plt.figure(figsize=[6,6])\n",
    "    tot = shf+lhf+swf+lwf\n",
    "    mpaso_tot = MPASOMap(data=tot, lat=lat, lon=lon, cellarea=cellArea, name='Total Heat Flux', units=r'W m^{-2}')\n",
    "    mpaso_tot.plot(region='LabSea', levels=levels, label=calendar.month_abbr[i+1], cmap='RdBu_r')\n",
    "    plt.show()\n",
    "    figname = fig_root+'/LabSea_totalHeatFlux_climo_{:02d}.png'.format(i+1)\n",
    "    fig.savefig(figname, dpi = 300)\n",
    "    plt.close(fig)"
   ]
  },
  {
   "cell_type": "markdown",
   "metadata": {},
   "source": [
    "### Surface Freshwater  Flux (kg m$^{-2}$ s$^{-1}$)"
   ]
  },
  {
   "cell_type": "code",
   "execution_count": null,
   "metadata": {},
   "outputs": [],
   "source": [
    "levels = np.linspace(-2e-4, 2e-4, 41)\n",
    "for i in np.arange(12):\n",
    "    # read file\n",
    "    climo_file = climo_root+'/freshWaterFlux/mpaso_{:02d}_climo.nc'.format(i+1)\n",
    "    f_climo = Dataset(climo_file, 'r')\n",
    "    # evap\n",
    "    fig = plt.figure(figsize=[6,6])\n",
    "    evap = f_climo.variables['timeMonthly_avg_evaporationFlux'][0,:]\n",
    "    mpaso_evap = MPASOMap(data=evap, lat=lat, lon=lon, cellarea=cellArea,\n",
    "                          name='Evaporation', units=r'kg m^{-2} s^{-1}')\n",
    "    mpaso_evap.plot(region='LabSea', levels=levels, label=calendar.month_abbr[i+1], cmap='RdBu_r')\n",
    "    plt.show()\n",
    "    figname = fig_root+'/LabSea_evaporationFlux_climo_{:02d}.png'.format(i+1)\n",
    "    fig.savefig(figname, dpi = 300)\n",
    "    plt.close(fig)\n",
    "    # prec\n",
    "    fig = plt.figure(figsize=[6,6])\n",
    "    rain = f_climo.variables['timeMonthly_avg_rainFlux'][0,:]\n",
    "    snow = f_climo.variables['timeMonthly_avg_snowFlux'][0,:]\n",
    "    prec = rain+snow\n",
    "    mpaso_prec = MPASOMap(data=prec, lat=lat, lon=lon, cellarea=cellArea,\n",
    "                          name='Precipitation', units=r'kg m^{-2} s^{-1}')\n",
    "    mpaso_prec.plot(region='LabSea', levels=levels, label=calendar.month_abbr[i+1], cmap='RdBu_r')\n",
    "    plt.show()\n",
    "    figname = fig_root+'/LabSea_precipitationFlux_climo_{:02d}.png'.format(i+1)\n",
    "    fig.savefig(figname, dpi = 300)\n",
    "    plt.close(fig)\n",
    "    # sea ice\n",
    "    fig = plt.figure(figsize=[6,6])\n",
    "    si_s = f_climo.variables['timeMonthly_avg_seaIceSalinityFlux'][0,:]\n",
    "    si_f = f_climo.variables['timeMonthly_avg_seaIceFreshWaterFlux'][0,:]\n",
    "    sice = si_s+si_f\n",
    "    mpaso_sice = MPASOMap(data=sice, lat=lat, lon=lon, cellarea=cellArea,\n",
    "                          name='Sea Ice', units=r'kg m^{-2} s^{-1}')\n",
    "    mpaso_sice.plot(region='LabSea', levels=levels, label=calendar.month_abbr[i+1], cmap='RdBu_r')\n",
    "    plt.show()\n",
    "    figname = fig_root+'/LabSea_seaIceFlux_climo_{:02d}.png'.format(i+1)\n",
    "    fig.savefig(figname, dpi = 300)\n",
    "    plt.close(fig)\n",
    "    # run off\n",
    "    fig = plt.figure(figsize=[6,6])\n",
    "    ro_r = f_climo.variables['timeMonthly_avg_riverRunoffFlux'][0,:]\n",
    "    ro_i = f_climo.variables['timeMonthly_avg_iceRunoffFlux'][0,:]\n",
    "    roff = ro_r+ro_i\n",
    "    mpaso_roff = MPASOMap(data=roff, lat=lat, lon=lon, cellarea=cellArea,\n",
    "                          name='Runoff', units=r'kg m^{-2} s^{-1}')\n",
    "    mpaso_roff.plot(region='LabSea', levels=levels, label=calendar.month_abbr[i+1], cmap='RdBu_r')\n",
    "    plt.show()\n",
    "    figname = fig_root+'/LabSea_runOffFlux_climo_{:02d}.png'.format(i+1)\n",
    "    fig.savefig(figname, dpi = 300)\n",
    "    plt.close(fig)\n",
    "    # total\n",
    "    fig = plt.figure(figsize=[6,6])\n",
    "    tot = evap+prec+sice+roff\n",
    "    mpaso_tot = MPASOMap(data=tot, lat=lat, lon=lon, cellarea=cellArea,\n",
    "                         name='Total Fresh Water Flux', units=r'kg m^{-2} s^{-1}')\n",
    "    mpaso_tot.plot(region='LabSea', levels=levels, label=calendar.month_abbr[i+1], cmap='RdBu_r')\n",
    "    plt.show()\n",
    "    figname = fig_root+'/LabSea_totalFreshWaterFlux_climo_{:02d}.png'.format(i+1)\n",
    "    fig.savefig(figname, dpi = 300)\n",
    "    plt.close(fig)"
   ]
  },
  {
   "cell_type": "markdown",
   "metadata": {},
   "source": [
    "### Wind stress (N m^{-2})"
   ]
  },
  {
   "cell_type": "code",
   "execution_count": null,
   "metadata": {},
   "outputs": [],
   "source": [
    "levels = np.linspace(-0.4, 0.4, 41)\n",
    "for i in np.arange(12):\n",
    "    climo_file = climo_root+'/windStress/mpaso_{:02d}_climo.nc'.format(i+1)\n",
    "    f_climo = Dataset(climo_file, 'r')\n",
    "    # zonal\n",
    "    fig = plt.figure(figsize=[6,6])\n",
    "    data = f_climo.variables['timeMonthly_avg_windStressZonal'][0,:]\n",
    "    mpaso_obj = MPASOMap(data=data, lat=lat, lon=lon, cellarea=cellArea,\n",
    "                         name='Zonal Wind Stress', units='N m^{-2}')\n",
    "    mpaso_obj.plot(region='LabSea', levels=levels, label=calendar.month_abbr[i+1], cmap='RdBu_r')\n",
    "    plt.show()\n",
    "    figname = fig_root+'/LabSea_windStressZonal_climo_{:02d}.png'.format(i+1)\n",
    "    fig.savefig(figname, dpi = 300)\n",
    "    plt.close(fig)\n",
    "    # meridional\n",
    "    fig = plt.figure(figsize=[6,6])\n",
    "    data = f_climo.variables['timeMonthly_avg_windStressMeridional'][0,:]\n",
    "    mpaso_obj = MPASOMap(data=data, lat=lat, lon=lon, cellarea=cellArea,\n",
    "                         name='Meridional Wind Stress', units='N m^{-2}')\n",
    "    mpaso_obj.plot(region='LabSea', levels=levels, label=calendar.month_abbr[i+1], cmap='RdBu_r')\n",
    "    plt.show()\n",
    "    figname = fig_root+'/LabSea_windStressMeridional_climo_{:02d}.png'.format(i+1)\n",
    "    fig.savefig(figname, dpi = 300)\n",
    "    plt.close(fig)"
   ]
  },
  {
   "cell_type": "code",
   "execution_count": null,
   "metadata": {},
   "outputs": [],
   "source": []
  }
 ],
 "metadata": {
  "kernelspec": {
   "display_name": "Python 3",
   "language": "python",
   "name": "python3"
  },
  "language_info": {
   "codemirror_mode": {
    "name": "ipython",
    "version": 3
   },
   "file_extension": ".py",
   "mimetype": "text/x-python",
   "name": "python",
   "nbconvert_exporter": "python",
   "pygments_lexer": "ipython3",
   "version": "3.7.2"
  }
 },
 "nbformat": 4,
 "nbformat_minor": 2
}
